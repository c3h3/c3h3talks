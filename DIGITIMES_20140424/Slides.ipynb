{
 "metadata": {
  "celltoolbar": "Slideshow",
  "name": "",
  "signature": "sha256:1ca6f641fcc2213f2a7697ad86dad959e8c92833b8af6a5c60f507acb705eac6"
 },
 "nbformat": 3,
 "nbformat_minor": 0,
 "worksheets": [
  {
   "cells": [
    {
     "cell_type": "markdown",
     "metadata": {
      "slideshow": {
       "slide_type": "slide"
      }
     },
     "source": [
      "\u8cc7\u6599\uff1f\u79d1\u5b78\uff1f\u96f2\u7aef\u904b\u7528\uff1f\n",
      "=================="
     ]
    },
    {
     "cell_type": "markdown",
     "metadata": {},
     "source": [
      "Chia-Chi Chang\n",
      "--------------"
     ]
    },
    {
     "cell_type": "markdown",
     "metadata": {
      "slideshow": {
       "slide_type": "subslide"
      }
     },
     "source": [
      "# \u5728\u6f14\u8b1b\u958b\u59cb\u4e4b\u524d ... "
     ]
    },
    {
     "cell_type": "markdown",
     "metadata": {
      "slideshow": {
       "slide_type": "subslide"
      }
     },
     "source": [
      "# \u6211\u60f3\u5148\u7c21\u55ae\u7684\u8abf\u67e5\u4e00\u4e0b ... "
     ]
    },
    {
     "cell_type": "markdown",
     "metadata": {
      "slideshow": {
       "slide_type": "subslide"
      }
     },
     "source": [
      "# \u80cc\u666f\uff1a\n",
      "\n",
      "- ## \u6578\u7406\uff0c\u96fb\u8cc7\uff0c\u751f\u91ab\n",
      "- ## \u5546\u696d\uff0c\u7ba1\u7406\n",
      "- ## \u793e\u79d1\uff0c\u4eba\u6587\uff0c\u85dd\u8853\n",
      "- ## \u5176\u4ed6"
     ]
    },
    {
     "cell_type": "markdown",
     "metadata": {
      "slideshow": {
       "slide_type": "subslide"
      }
     },
     "source": [
      "# \u6703\u5beb Code \u7684\u8acb\u8209\u624b\uff1a\n",
      "\n",
      "- ## \u6211\u4e0d\u6703\u5beb Code ... \n",
      "- ## C / C++\n",
      "- ## Java / .NET\n",
      "- ## Python \u87d2\u86c7\u55ce\uff1f\n",
      "- ## R \u662f\u4ec0\u9ebc\u80fd\u5403\u55ce\uff1f\n",
      "- ## \u807d\u8aaa Scala \u6b63\u592f\uff1fSpark \u98db\u5feb\uff1f\n",
      "- ## \u5509\u7cfb\u5217\u7684 ... Obj-C \uff1f\n",
      "- ## \u5176\u4ed6 ..."
     ]
    },
    {
     "cell_type": "markdown",
     "metadata": {
      "slideshow": {
       "slide_type": "subslide"
      }
     },
     "source": [
      "# \u6578\u5b78\u9ad8\u624b\u8acb\u8209\u624b\uff1a\n",
      "\n",
      "- ## \u6700\u4f73\u5316 / \u7dda\u6027\u975e\uff0c\u7dda\u6027\uff0c\u6574\u6578\u898f\u5283\n",
      "- ## \u8a0a\u865f\u5206\u6790 DSP / Wavelet \n",
      "- ## Computer Vision \n",
      "- ## \u5bc6\u78bc\u5b78 / \u6a62\u5713\u66f2\u7dda\n",
      "- ## \u5fae\u5206\u5e7e\u4f55\n",
      "- ## \u6578\u503c\u5206\u6790 / \u8d85\u5927\u578b\u77e9\u9663\u904b\u7b97\n",
      "- ## \u5225\u554f\u4e86\uff0c\u6211\u6578\u5b78\u5f88\u721b ... \n",
      "- ## \u5176\u4ed6 ..."
     ]
    },
    {
     "cell_type": "markdown",
     "metadata": {
      "slideshow": {
       "slide_type": "subslide"
      }
     },
     "source": [
      "# \u5de5\u4f5c\u72c0\u614b\uff1a\n",
      "\n",
      "- ## \u8001\u95c6\n",
      "- ## \u516c\u53f8\u4e3b\u7ba1\n",
      "- ## \u5b78\u751f\uff0c\u7576\u5175\n",
      "- ## \u5c0f\u5c0f\u54e1\u5de5\n",
      "- ## SOHO\uff0c\u5275\u696d\n",
      "- ## \u5176\u4ed6"
     ]
    },
    {
     "cell_type": "markdown",
     "metadata": {
      "slideshow": {
       "slide_type": "subslide"
      }
     },
     "source": [
      "# \u8207\u8cc7\u6599\u7684\u95dc\u4fc2\uff1a\n",
      "\n",
      "- ## \u5de5\u4f5c\u5b8c\u5168\u4e0d\u6703\u6478\u5230\u8cc7\u6599\n",
      "- ## \u5de5\u4f5c\u6703\u6478\u5230\u8cc7\u6599\uff0c\u4f46\u9bae\u5c11\u9032\u884c\u5206\u6790\n",
      "- ## \u5de5\u4f5c\u6703\u6478\u5230\u8cc7\u6599\uff0c\u4e14\u9032\u884c\u5206\u6790\n",
      "- ## \u5176\u4ed6"
     ]
    },
    {
     "cell_type": "markdown",
     "metadata": {
      "slideshow": {
       "slide_type": "subslide"
      }
     },
     "source": [
      "# \u4f86\u807d\u6f14\u8b1b\u7684\u52d5\u6a5f\uff1a\n",
      "\n",
      "- ## \u56e0\u70ba\u8001\u95c6\u53eb\u6211\u4f86\u807d\u807d\u770b ... \uff1f\n",
      "- ## \u56e0\u70ba\u60f3\u505a\u76f8\u95dc\u7684\u670d\u52d9\u8207\u61c9\u7528 ... \uff1f\n",
      "- ## \u56e0\u70ba\u8cc7\u6599\u79d1\u5b78\u6b63\u592f ... \uff1f\n",
      "- ## \u56e0\u70ba MLDM Monday & TW.R \u7684\u4eba\u90fd\u5f88\u597d\uff0c\u5f88\u71b1\u8840\uff0c\u975e\u5e38\u9858\u610f\u5206\u4eab ... \uff1f\n",
      "- ## \u56e0\u70ba ... \u60f3\u63a2\u7d22\u8cc7\u6599\u7684\u672c\u8cea ... \uff1f\n",
      "- ## \u8b80\u6a02\u6a02\u4e0d\u5982\u773e\u6a02\u6a02 ... \u4f86\u627e\u540c\u8208\u8da3\u7684\u5925\u4f34 ... \uff1f\n",
      "- ## \u5176\u4ed6 ..."
     ]
    },
    {
     "cell_type": "markdown",
     "metadata": {
      "slideshow": {
       "slide_type": "slide"
      }
     },
     "source": [
      "# \u56de\u5230\u4eca\u5929\u7684\u4e3b\u984c\uff1a"
     ]
    },
    {
     "cell_type": "markdown",
     "metadata": {
      "slideshow": {
       "slide_type": "fragment"
      }
     },
     "source": [
      "# \u8cc7\u6599\uff1f\u79d1\u5b78\uff1f"
     ]
    },
    {
     "cell_type": "markdown",
     "metadata": {
      "slideshow": {
       "slide_type": "subslide"
      }
     },
     "source": [
      "# \u5f88\u591a\u4eba\u90fd\u8aaa ... "
     ]
    },
    {
     "cell_type": "markdown",
     "metadata": {
      "slideshow": {
       "slide_type": "fragment"
      }
     },
     "source": [
      "![](Data_Science_VD.png)"
     ]
    },
    {
     "cell_type": "markdown",
     "metadata": {
      "slideshow": {
       "slide_type": "subslide"
      }
     },
     "source": [
      "# \u4f46 ... \u4eba\u5bb6\u8aaa\u4e86\uff0c\u4f60\u5c31\u76f8\u4fe1\u4e86\u55ce\uff1f ... "
     ]
    },
    {
     "cell_type": "markdown",
     "metadata": {
      "slideshow": {
       "slide_type": "fragment"
      }
     },
     "source": [
      "# \u8aaa\u597d\u7684 ...\u300c\u79d1\u5b78\u300d\u5462\uff1f"
     ]
    },
    {
     "cell_type": "markdown",
     "metadata": {
      "slideshow": {
       "slide_type": "fragment"
      }
     },
     "source": [
      "# \u8aaa\u597d\u7684 ... \u300c\u7368\u7acb\u601d\u8003\u300d\u7684\u89c0\u9ede\u8207\u76f4\u89ba\u5462\uff1f"
     ]
    },
    {
     "cell_type": "markdown",
     "metadata": {
      "slideshow": {
       "slide_type": "slide"
      }
     },
     "source": [
      "# \u8b93\u6211\u5011\u4e00\u8d77\u653e\u4e0b\u9019\u4e9b ... \u300c\u4eba\u4e91\u4ea6\u4e91\u300d\u7684\u6210\u898b ..."
     ]
    },
    {
     "cell_type": "markdown",
     "metadata": {
      "slideshow": {
       "slide_type": "fragment"
      }
     },
     "source": [
      "# \u4e00\u8d77\u56de\u5230\u6700\u65e5\u5e38\u7684\u6d3b\u4e2d ... \u300c\u5f9e\u5fc3\u300d\u8a8d\u8b58 ... "
     ]
    },
    {
     "cell_type": "markdown",
     "metadata": {
      "slideshow": {
       "slide_type": "fragment"
      }
     },
     "source": [
      "# \u4ec0\u9ebc\u662f\u300c\u8cc7\u6599\u300d\uff1f"
     ]
    },
    {
     "cell_type": "markdown",
     "metadata": {
      "slideshow": {
       "slide_type": "fragment"
      }
     },
     "source": [
      "# \u4ec0\u9ebc\u662f\u300c\u79d1\u5b78\u300d?"
     ]
    },
    {
     "cell_type": "markdown",
     "metadata": {
      "slideshow": {
       "slide_type": "slide"
      }
     },
     "source": [
      "# \u5c0d\u80a1\u7968\u65cf\u4f86\u8aaa ..."
     ]
    },
    {
     "cell_type": "markdown",
     "metadata": {},
     "source": [
      "![](stock.png)"
     ]
    },
    {
     "cell_type": "markdown",
     "metadata": {
      "slideshow": {
       "slide_type": "subslide"
      }
     },
     "source": [
      "# \u5c0d\u97f3\u6a02\u5bb6\u4f86\u8aaa ... \n",
      "\n",
      "[\u64ad\u653e](wavs/source5.wav)"
     ]
    },
    {
     "cell_type": "markdown",
     "metadata": {},
     "source": [
      "![](music_att.png)"
     ]
    },
    {
     "cell_type": "markdown",
     "metadata": {
      "slideshow": {
       "slide_type": "subslide"
      }
     },
     "source": [
      "# \u5c0d\u756b\u5bb6\u4f86\u8aaa ... \n",
      "\n",
      "![](imgs/picture.jpg)"
     ]
    },
    {
     "cell_type": "markdown",
     "metadata": {
      "slideshow": {
       "slide_type": "subslide"
      }
     },
     "source": [
      "# \u5c0d\u5f71\u50cf\u8655\u7406\u4eba\u54e1\u4f86\u8aaa ... \n",
      "\n",
      "![](imgs/front_page.png)\n",
      "![](imgs/front_page_2.png)"
     ]
    },
    {
     "cell_type": "markdown",
     "metadata": {
      "slideshow": {
       "slide_type": "subslide"
      }
     },
     "source": [
      "# \u5c0d\u9109\u6c11\u4f86\u8aaa ... \n",
      "\n",
      "![](imgs/Web_ppt.png)"
     ]
    },
    {
     "cell_type": "markdown",
     "metadata": {
      "slideshow": {
       "slide_type": "subslide"
      }
     },
     "source": [
      "# \u5c0d\u8cc7\u8a0a\u7cfb\u5b78\u751f\u4f86\u8aaa ... \n",
      "\n",
      "![](imgs/db_schema.jpg)"
     ]
    },
    {
     "cell_type": "markdown",
     "metadata": {
      "slideshow": {
       "slide_type": "subslide"
      }
     },
     "source": [
      "# \u5c0d\u7d71\u8a08\u5b78\u5bb6\u4f86\u8aaa ... "
     ]
    },
    {
     "cell_type": "code",
     "collapsed": false,
     "input": [
      "from pandas.io.data import DataReader\n",
      "TW2330_df = DataReader(name=\"2330.TW\", data_source=\"yahoo\")\n",
      "TW2330_df.tail(15)"
     ],
     "language": "python",
     "metadata": {},
     "outputs": [
      {
       "html": [
        "<div style=\"max-height:1000px;max-width:1500px;overflow:auto;\">\n",
        "<table border=\"1\" class=\"dataframe\">\n",
        "  <thead>\n",
        "    <tr style=\"text-align: right;\">\n",
        "      <th></th>\n",
        "      <th>Open</th>\n",
        "      <th>High</th>\n",
        "      <th>Low</th>\n",
        "      <th>Close</th>\n",
        "      <th>Volume</th>\n",
        "      <th>Adj Close</th>\n",
        "    </tr>\n",
        "    <tr>\n",
        "      <th>Date</th>\n",
        "      <th></th>\n",
        "      <th></th>\n",
        "      <th></th>\n",
        "      <th></th>\n",
        "      <th></th>\n",
        "      <th></th>\n",
        "    </tr>\n",
        "  </thead>\n",
        "  <tbody>\n",
        "    <tr>\n",
        "      <th>2014-04-03</th>\n",
        "      <td> 118.5</td>\n",
        "      <td> 119.0</td>\n",
        "      <td> 117.5</td>\n",
        "      <td> 118.5</td>\n",
        "      <td> 36937000</td>\n",
        "      <td> 118.5</td>\n",
        "    </tr>\n",
        "    <tr>\n",
        "      <th>2014-04-04</th>\n",
        "      <td> 118.5</td>\n",
        "      <td> 118.5</td>\n",
        "      <td> 118.5</td>\n",
        "      <td> 118.5</td>\n",
        "      <td>        0</td>\n",
        "      <td> 118.5</td>\n",
        "    </tr>\n",
        "    <tr>\n",
        "      <th>2014-04-07</th>\n",
        "      <td> 117.5</td>\n",
        "      <td> 118.0</td>\n",
        "      <td> 116.5</td>\n",
        "      <td> 117.5</td>\n",
        "      <td> 45015000</td>\n",
        "      <td> 117.5</td>\n",
        "    </tr>\n",
        "    <tr>\n",
        "      <th>2014-04-08</th>\n",
        "      <td> 117.0</td>\n",
        "      <td> 119.5</td>\n",
        "      <td> 117.0</td>\n",
        "      <td> 119.0</td>\n",
        "      <td> 39873000</td>\n",
        "      <td> 119.0</td>\n",
        "    </tr>\n",
        "    <tr>\n",
        "      <th>2014-04-09</th>\n",
        "      <td> 119.5</td>\n",
        "      <td> 120.0</td>\n",
        "      <td> 119.0</td>\n",
        "      <td> 119.0</td>\n",
        "      <td> 28578000</td>\n",
        "      <td> 119.0</td>\n",
        "    </tr>\n",
        "    <tr>\n",
        "      <th>2014-04-10</th>\n",
        "      <td> 119.0</td>\n",
        "      <td> 119.5</td>\n",
        "      <td> 118.5</td>\n",
        "      <td> 119.5</td>\n",
        "      <td> 25612000</td>\n",
        "      <td> 119.5</td>\n",
        "    </tr>\n",
        "    <tr>\n",
        "      <th>2014-04-11</th>\n",
        "      <td> 118.5</td>\n",
        "      <td> 120.0</td>\n",
        "      <td> 118.0</td>\n",
        "      <td> 120.0</td>\n",
        "      <td> 34449000</td>\n",
        "      <td> 120.0</td>\n",
        "    </tr>\n",
        "    <tr>\n",
        "      <th>2014-04-14</th>\n",
        "      <td> 120.0</td>\n",
        "      <td> 121.0</td>\n",
        "      <td> 120.0</td>\n",
        "      <td> 120.5</td>\n",
        "      <td> 30297000</td>\n",
        "      <td> 120.5</td>\n",
        "    </tr>\n",
        "    <tr>\n",
        "      <th>2014-04-15</th>\n",
        "      <td> 121.5</td>\n",
        "      <td> 122.5</td>\n",
        "      <td> 121.0</td>\n",
        "      <td> 122.5</td>\n",
        "      <td> 28525000</td>\n",
        "      <td> 122.5</td>\n",
        "    </tr>\n",
        "    <tr>\n",
        "      <th>2014-04-16</th>\n",
        "      <td> 121.5</td>\n",
        "      <td> 122.5</td>\n",
        "      <td> 121.0</td>\n",
        "      <td> 121.0</td>\n",
        "      <td> 49971000</td>\n",
        "      <td> 121.0</td>\n",
        "    </tr>\n",
        "    <tr>\n",
        "      <th>2014-04-17</th>\n",
        "      <td> 120.5</td>\n",
        "      <td> 121.5</td>\n",
        "      <td> 119.0</td>\n",
        "      <td> 120.0</td>\n",
        "      <td> 35783000</td>\n",
        "      <td> 120.0</td>\n",
        "    </tr>\n",
        "    <tr>\n",
        "      <th>2014-04-18</th>\n",
        "      <td> 122.5</td>\n",
        "      <td> 123.0</td>\n",
        "      <td> 121.0</td>\n",
        "      <td> 123.0</td>\n",
        "      <td> 32741000</td>\n",
        "      <td> 123.0</td>\n",
        "    </tr>\n",
        "    <tr>\n",
        "      <th>2014-04-21</th>\n",
        "      <td> 122.0</td>\n",
        "      <td> 122.0</td>\n",
        "      <td> 121.0</td>\n",
        "      <td> 121.5</td>\n",
        "      <td> 21736000</td>\n",
        "      <td> 121.5</td>\n",
        "    </tr>\n",
        "    <tr>\n",
        "      <th>2014-04-22</th>\n",
        "      <td> 121.0</td>\n",
        "      <td> 122.5</td>\n",
        "      <td> 120.5</td>\n",
        "      <td> 121.5</td>\n",
        "      <td> 22674000</td>\n",
        "      <td> 121.5</td>\n",
        "    </tr>\n",
        "    <tr>\n",
        "      <th>2014-04-23</th>\n",
        "      <td> 123.0</td>\n",
        "      <td> 123.0</td>\n",
        "      <td> 120.5</td>\n",
        "      <td> 121.0</td>\n",
        "      <td> 31054000</td>\n",
        "      <td> 121.0</td>\n",
        "    </tr>\n",
        "  </tbody>\n",
        "</table>\n",
        "<p>15 rows \u00d7 6 columns</p>\n",
        "</div>"
       ],
       "metadata": {},
       "output_type": "pyout",
       "prompt_number": 1,
       "text": [
        "             Open   High    Low  Close    Volume  Adj Close\n",
        "Date                                                       \n",
        "2014-04-03  118.5  119.0  117.5  118.5  36937000      118.5\n",
        "2014-04-04  118.5  118.5  118.5  118.5         0      118.5\n",
        "2014-04-07  117.5  118.0  116.5  117.5  45015000      117.5\n",
        "2014-04-08  117.0  119.5  117.0  119.0  39873000      119.0\n",
        "2014-04-09  119.5  120.0  119.0  119.0  28578000      119.0\n",
        "2014-04-10  119.0  119.5  118.5  119.5  25612000      119.5\n",
        "2014-04-11  118.5  120.0  118.0  120.0  34449000      120.0\n",
        "2014-04-14  120.0  121.0  120.0  120.5  30297000      120.5\n",
        "2014-04-15  121.5  122.5  121.0  122.5  28525000      122.5\n",
        "2014-04-16  121.5  122.5  121.0  121.0  49971000      121.0\n",
        "2014-04-17  120.5  121.5  119.0  120.0  35783000      120.0\n",
        "2014-04-18  122.5  123.0  121.0  123.0  32741000      123.0\n",
        "2014-04-21  122.0  122.0  121.0  121.5  21736000      121.5\n",
        "2014-04-22  121.0  122.5  120.5  121.5  22674000      121.5\n",
        "2014-04-23  123.0  123.0  120.5  121.0  31054000      121.0\n",
        "\n",
        "[15 rows x 6 columns]"
       ]
      }
     ],
     "prompt_number": 1
    },
    {
     "cell_type": "markdown",
     "metadata": {
      "slideshow": {
       "slide_type": "subslide"
      }
     },
     "source": [
      "# \u5c0d\u5eda\u5e2b\u4f86\u8aaa ... "
     ]
    },
    {
     "cell_type": "code",
     "collapsed": false,
     "input": [
      "from IPython.display import YouTubeVideo\n",
      "YouTubeVideo(\"oUdzC9knRKY\")"
     ],
     "language": "python",
     "metadata": {},
     "outputs": [
      {
       "html": [
        "\n",
        "        <iframe\n",
        "            width=\"400\"\n",
        "            height=300\"\n",
        "            src=\"https://www.youtube.com/embed/oUdzC9knRKY\"\n",
        "            frameborder=\"0\"\n",
        "            allowfullscreen\n",
        "        ></iframe>\n",
        "        "
       ],
       "metadata": {},
       "output_type": "pyout",
       "prompt_number": 2,
       "text": [
        "<IPython.lib.display.YouTubeVideo at 0x26d01d0>"
       ]
      }
     ],
     "prompt_number": 2
    },
    {
     "cell_type": "markdown",
     "metadata": {
      "slideshow": {
       "slide_type": "subslide"
      }
     },
     "source": [
      "# \u5c0d icook \u4f86\u8aaa ... \n",
      "\n",
      "![](imgs/icook.png)"
     ]
    },
    {
     "cell_type": "markdown",
     "metadata": {
      "slideshow": {
       "slide_type": "subslide"
      }
     },
     "source": [
      "# \u5c0d\u6211\u4f86\u8aaa ... "
     ]
    },
    {
     "cell_type": "markdown",
     "metadata": {
      "slideshow": {
       "slide_type": "subslide"
      }
     },
     "source": [
      "# \u6211\u89ba\u5f97 ... Data \u5c31\u662f\u751f\u6d3b\u7684\u72c0\u614b ... "
     ]
    },
    {
     "cell_type": "markdown",
     "metadata": {
      "slideshow": {
       "slide_type": "subslide"
      }
     },
     "source": [
      "# \u5b83\u672c\u4f86\u5c31\u5728\u90a3\u88e1 ... "
     ]
    },
    {
     "cell_type": "markdown",
     "metadata": {
      "slideshow": {
       "slide_type": "subslide"
      }
     },
     "source": [
      "# \u5c31\u7b97\u4f60\u4e0d\u8490\u96c6\uff0c\u4e0d\u7d00\u9304 ... "
     ]
    },
    {
     "cell_type": "markdown",
     "metadata": {
      "slideshow": {
       "slide_type": "subslide"
      }
     },
     "source": [
      "# \u4e5f\u4e0d\u6703\u5f71\u97ff\u4ed6\u672c\u7136\u5b58\u5728\u7684\u6027\u8cea ..."
     ]
    },
    {
     "cell_type": "markdown",
     "metadata": {
      "slideshow": {
       "slide_type": "subslide"
      }
     },
     "source": [
      "# \u4f46\u662f ... \u6211\u5011\u4eca\u5929\u7684\u8b1b\u5ea7\u4e0d\u662f \"\u8cc7\u6599\u54f2\u5b78\" ... "
     ]
    },
    {
     "cell_type": "markdown",
     "metadata": {
      "slideshow": {
       "slide_type": "slide"
      }
     },
     "source": [
      "# \u800c\u662f ... Data \"Science\" ? "
     ]
    },
    {
     "cell_type": "markdown",
     "metadata": {
      "slideshow": {
       "slide_type": "subslide"
      }
     },
     "source": [
      "# What is \"Science\" ?"
     ]
    },
    {
     "cell_type": "markdown",
     "metadata": {
      "slideshow": {
       "slide_type": "fragment"
      }
     },
     "source": [
      "## (\u4e0d\u77e5\u9053\u53f0\u4e0b\u6709\u6c92\u6709\u4eba\u60f3\u8a66\u8457\u56de\u7b54\u5462\uff1f ... \u958b\u653e\u4e00\u5230\u5169\u4f4d ... )"
     ]
    },
    {
     "cell_type": "markdown",
     "metadata": {
      "slideshow": {
       "slide_type": "subslide"
      }
     },
     "source": [
      "# \u6211\u89ba\u5f97 ... \u79d1\u5b78\u662f:\n",
      "\n",
      "- ## \u4e00\u7a2e\u91cd\u8996\u9a57\u8b49\u7684\u5b78\u79d1 ... \u53ef\u91cd\u8907\n",
      "- ## \u4e00\u7a2e\u91cd\u8996\u91cf\u5316 ... \u53ef\u89c0\u6e2c\n",
      "- ## \u8b1b\u7a76 ... To see is to believe ... ?\n",
      "- ## \u4ee5\u300c\u6578\u5b78\u300d\u70ba\u5176\u4e3b\u8981\u6e9d\u901a\u8a9e\u8a00 ... \n"
     ]
    },
    {
     "cell_type": "markdown",
     "metadata": {
      "slideshow": {
       "slide_type": "subslide"
      }
     },
     "source": [
      "# \u8209\u4f8b\u4f86\u8aaa ... \u79d1\u5b78\u5f37\u8abf ... "
     ]
    },
    {
     "cell_type": "markdown",
     "metadata": {
      "slideshow": {
       "slide_type": "fragment"
      }
     },
     "source": [
      "# \"\u770b\u898b\" \u8072\u97f3\u7684\u8cc7\u6599 ... \n",
      "\n",
      "[\u64ad\u653e](wavs/source9.wav)\n",
      "\n",
      "![](music_att.png)"
     ]
    },
    {
     "cell_type": "markdown",
     "metadata": {
      "slideshow": {
       "slide_type": "subslide"
      }
     },
     "source": [
      "# \u6709\u6c92\u6709\u4eba\u6703\u6709\u60f3\u554f\uff1f"
     ]
    },
    {
     "cell_type": "markdown",
     "metadata": {
      "slideshow": {
       "slide_type": "fragment"
      }
     },
     "source": [
      "# \u8072\u97f3\u4e0d\u662f\u61c9\u8a72\u7528\u807d\u7684\u55ce\uff1f"
     ]
    },
    {
     "cell_type": "markdown",
     "metadata": {
      "slideshow": {
       "slide_type": "subslide"
      }
     },
     "source": [
      "# \u4e0d\u904e\uff0c\u6b77\u53f2\u4e0a\u4e5f\u771f\u5f97\u6709\u795e\u4eba ... \u662f\u7528\u770b\u898b\u97f3\u6a02\u7684 ... "
     ]
    },
    {
     "cell_type": "markdown",
     "metadata": {
      "slideshow": {
       "slide_type": "subslide"
      }
     },
     "source": [
      "# \u5927\u5bb6\u9084\u8a18\u5f97\u8c9d\u591a\u82ac (\u80cc\u591a\u5206) \u55ce\uff1f ... "
     ]
    },
    {
     "cell_type": "markdown",
     "metadata": {
      "slideshow": {
       "slide_type": "slide"
      }
     },
     "source": [
      "# \u8b1b\u9019\u9ebc\u591a ... \u5176\u5be6\u53ea\u662f\u60f3\u544a\u8a34\u5927\u5bb6\u4e00\u4ef6\u4e8b ... "
     ]
    },
    {
     "cell_type": "markdown",
     "metadata": {
      "slideshow": {
       "slide_type": "subslide"
      }
     },
     "source": [
      "# \u4e00\u4ef6\u6700\u91cd\u8981\u7684\u4e8b\u60c5 ... "
     ]
    },
    {
     "cell_type": "markdown",
     "metadata": {
      "slideshow": {
       "slide_type": "subslide"
      }
     },
     "source": [
      "# \u5c31\u662f\u300c\u8cc7\u6599\u79d1\u5b78\u300d\u662f\u4e00\u7a2e\u79d1\u5b78 ... "
     ]
    },
    {
     "cell_type": "markdown",
     "metadata": {
      "slideshow": {
       "slide_type": "fragment"
      }
     },
     "source": [
      "# \u800c\u79d1\u5b78 ... \u901a\u5e38\u7121\u6cd5\u812b\u96e2\u751f\u6d3b\u76f4\u89ba ... "
     ]
    },
    {
     "cell_type": "markdown",
     "metadata": {
      "slideshow": {
       "slide_type": "fragment"
      }
     },
     "source": [
      "# \u5373\u4f7f\u4f60\u6c92\u6709\u767c\u5c55\u300c\u8cc7\u6599\u79d1\u5b78\u300d\u7684\u80fd\u529b\uff0c\u4f46\u4e5f\u4e00\u5b9a\u6709 Evaluate \u7684\u80fd\u529b ... "
     ]
    },
    {
     "cell_type": "markdown",
     "metadata": {
      "slideshow": {
       "slide_type": "fragment"
      }
     },
     "source": [
      "# \u56e0\u70ba\u79d1\u5b78\u4e0d\u96e2\u751f\u6d3b\uff0c\u751f\u6d3b\u4e0d\u96e2\u79d1\u5b78 ... "
     ]
    },
    {
     "cell_type": "markdown",
     "metadata": {
      "slideshow": {
       "slide_type": "subslide"
      }
     },
     "source": [
      "# \u50be\u807d\u81ea\u5df1\u7684\u76f4\u89ba\uff0c\u800c\u975e\u696d\u52d9\u7684\u90a3\u5f35\u5634 ... "
     ]
    },
    {
     "cell_type": "markdown",
     "metadata": {
      "slideshow": {
       "slide_type": "slide"
      }
     },
     "source": [
      "# \u7531\u65bc\u300c\u6578\u5b78\u300d\uff0c\u662f\u300c\u79d1\u5b78\u300d\u6700\u91cd\u8981\u7684\u8a9e\u8a00 ... "
     ]
    },
    {
     "cell_type": "markdown",
     "metadata": {
      "slideshow": {
       "slide_type": "fragment"
      }
     },
     "source": [
      "# \u6240\u4ee5\uff0c\u6211\u89ba\u5f97\u6709\u5fc5\u8981\u8b93\u5927\u5bb6\u7528\u7c21\u55ae\u7684\u4f8b\u5b50 ... \u9ad4\u9a57\u4e00\u4e0b ... "
     ]
    },
    {
     "cell_type": "markdown",
     "metadata": {
      "slideshow": {
       "slide_type": "fragment"
      }
     },
     "source": [
      "# \u300c\u61c9\u7528\u300d\u548c\u300c\u6578\u5b78\u300d\u7684\u5dee\u8ddd ... "
     ]
    },
    {
     "cell_type": "markdown",
     "metadata": {
      "slideshow": {
       "slide_type": "subslide"
      }
     },
     "source": [
      "## ( \u9019\u662f\u6211\u524d\u5e7e\u5929\u5728\u6210\u5927\u6578\u5b78\u7684\u6f14\u8b1b\u90e8\u4efd\u5167\u5bb9 ... \u5e95\u4e0b\u4e5f\u505a\u4e86\u8a31\u591a\u6559\u6388 ... )"
     ]
    },
    {
     "cell_type": "markdown",
     "metadata": {
      "slideshow": {
       "slide_type": "subslide"
      }
     },
     "source": [
      "# \u4f86\u56de\u9867\u4e00\u4e0b ... \u300c\u6e1b\u6cd5\u300d\u7684\u76f4\u89ba\uff1f"
     ]
    },
    {
     "cell_type": "markdown",
     "metadata": {
      "slideshow": {
       "slide_type": "subslide"
      }
     },
     "source": [
      "# \u5f9e\u570b\u5c0f\u958b\u59cb\uff0c\u6211\u5011\u5c31\u662f\u9019\u6a23\u5b78\u7684 ... "
     ]
    },
    {
     "cell_type": "markdown",
     "metadata": {
      "slideshow": {
       "slide_type": "fragment"
      }
     },
     "source": [
      "# \u88ab\u526a\u6a39 - \u526a\u6a39 = ... \uff1f"
     ]
    },
    {
     "cell_type": "markdown",
     "metadata": {
      "slideshow": {
       "slide_type": "fragment"
      }
     },
     "source": [
      "# = \u88ab\uff1f .... XD"
     ]
    },
    {
     "cell_type": "markdown",
     "metadata": {
      "slideshow": {
       "slide_type": "fragment"
      }
     },
     "source": [
      "## ( ... Text Mining ... )"
     ]
    },
    {
     "cell_type": "markdown",
     "metadata": {
      "slideshow": {
       "slide_type": "fragment"
      }
     },
     "source": [
      "# = \u5dee ... !!! "
     ]
    },
    {
     "cell_type": "markdown",
     "metadata": {
      "slideshow": {
       "slide_type": "subslide"
      }
     },
     "source": [
      "# \u5728\u7530\u91ce\u8abf\u67e5\u4e00\u4e0b ... "
     ]
    },
    {
     "cell_type": "markdown",
     "metadata": {
      "slideshow": {
       "slide_type": "fragment"
      }
     },
     "source": [
      "# \u4f60\u89ba\u5f97 ... \u4ec0\u9ebc\u662f\u300c\u6e1b\u6cd5\u300d\uff1f\u5b83\u53ef\u4ee5\u7528\u4f86\u4f5c\u4ec0\u9ebc\uff1f"
     ]
    },
    {
     "cell_type": "markdown",
     "metadata": {
      "slideshow": {
       "slide_type": "subslide"
      }
     },
     "source": [
      "# \u8b93\u6211\u5011\u5148\u4f86\u4e00\u8d77\u4f86\u770b\u500b\u6709\u8da3\u7684\u4f8b\u5b50\u5427 ... "
     ]
    },
    {
     "cell_type": "markdown",
     "metadata": {
      "slideshow": {
       "slide_type": "fragment"
      }
     },
     "source": [
      "# \u6211\u5011\u90fd\u77e5\u9053 ... 103 - 100 = 3 = 6 - 3"
     ]
    },
    {
     "cell_type": "markdown",
     "metadata": {
      "slideshow": {
       "slide_type": "fragment"
      }
     },
     "source": [
      "# \u4f46 ... \u6478\u8457\u4f60\u7684\u826f\u5fc3\u8aaa ... "
     ]
    },
    {
     "cell_type": "markdown",
     "metadata": {
      "slideshow": {
       "slide_type": "fragment"
      }
     },
     "source": [
      "# \u4f60\u771f\u7684\u89ba\u5f97 ... 103 - 100 = 6 - 3 \u55ce\uff1f"
     ]
    },
    {
     "cell_type": "markdown",
     "metadata": {
      "slideshow": {
       "slide_type": "subslide"
      }
     },
     "source": [
      "# \u63db\u500b\u5834\u666f ... "
     ]
    },
    {
     "cell_type": "markdown",
     "metadata": {
      "slideshow": {
       "slide_type": "fragment"
      }
     },
     "source": [
      "# 103 \u5143 - 100 \u5143 = 6 \u5143 - 3 \u5143 \uff1f\uff1f"
     ]
    },
    {
     "cell_type": "markdown",
     "metadata": {
      "slideshow": {
       "slide_type": "fragment"
      }
     },
     "source": [
      "# 103 \u5143\u7684\u80a1\u7968 - 100 \u5143\u7684\u80a1\u7968 = 6 \u5143\u7684\u80a1\u7968 - 3 \u5143\u7684\u80a1\u7968 \uff1f\uff1f"
     ]
    },
    {
     "cell_type": "markdown",
     "metadata": {
      "slideshow": {
       "slide_type": "fragment"
      }
     },
     "source": [
      "## ( \u8acb\u6478\u8457\u4f60\u7684\u826f\u5fc3\u56de\u7b54 ... XD ... )"
     ]
    },
    {
     "cell_type": "markdown",
     "metadata": {
      "slideshow": {
       "slide_type": "slide"
      }
     },
     "source": [
      "# \u6709\u6c92\u6709\u767c\u73fe ... \u300c\u61c9\u7528\u300d(\u79d1\u5b78) \u548c\u300c\u6578\u5b78\u300d\u54ea\u88e1\u4e0d\u4e00\u6a23\uff1f"
     ]
    },
    {
     "cell_type": "markdown",
     "metadata": {
      "slideshow": {
       "slide_type": "fragment"
      }
     },
     "source": [
      "# 103 \u5143\u7684\u80a1\u7968 - 100 \u5143\u7684\u80a1\u7968 = 6 \u5143\u7684\u80a1\u7968 - 3 \u5143\u7684\u80a1\u7968"
     ]
    },
    {
     "cell_type": "markdown",
     "metadata": {
      "slideshow": {
       "slide_type": "fragment"
      }
     },
     "source": [
      "# (103 - 100 = 6 - 3) \u5143\u7684\u80a1\u7968"
     ]
    },
    {
     "cell_type": "markdown",
     "metadata": {
      "slideshow": {
       "slide_type": "slide"
      }
     },
     "source": [
      "# \u300c\u8cc7\u6599\u79d1\u5b78\u300d\u4e2d\u6700\u91cd\u8981\u7684\u5169\u500b\u554f\u984c\uff1a"
     ]
    },
    {
     "cell_type": "markdown",
     "metadata": {
      "slideshow": {
       "slide_type": "fragment"
      }
     },
     "source": [
      "# \u300c\u554f\u554f\u984c\u300d"
     ]
    },
    {
     "cell_type": "markdown",
     "metadata": {
      "slideshow": {
       "slide_type": "fragment"
      }
     },
     "source": [
      "# \u300c\u627e\u89e3\u7b54\u300d"
     ]
    },
    {
     "cell_type": "markdown",
     "metadata": {
      "slideshow": {
       "slide_type": "subslide"
      }
     },
     "source": [
      "![](imgs/TwoKeys.png)"
     ]
    },
    {
     "cell_type": "markdown",
     "metadata": {
      "slideshow": {
       "slide_type": "subslide"
      }
     },
     "source": [
      "# \u6a19\u6e96\u7684\u8cc7\u6599\u5206\u6790\u6d41\u7a0b ... "
     ]
    },
    {
     "cell_type": "markdown",
     "metadata": {
      "slideshow": {
       "slide_type": "fragment"
      }
     },
     "source": [
      "# (1) \u63d0\u51fa\u554f\u984c"
     ]
    },
    {
     "cell_type": "markdown",
     "metadata": {
      "slideshow": {
       "slide_type": "fragment"
      }
     },
     "source": [
      "# (2) \u8490\u96c6\u8cc7\u6599"
     ]
    },
    {
     "cell_type": "markdown",
     "metadata": {
      "slideshow": {
       "slide_type": "fragment"
      }
     },
     "source": [
      "# (3) \u8cc7\u6599\u5411\u91cf\u5316 (\u554f\u984c\u6578\u5b78\u5316)"
     ]
    },
    {
     "cell_type": "markdown",
     "metadata": {
      "slideshow": {
       "slide_type": "fragment"
      }
     },
     "source": [
      "# (4) \u5c07\u751f\u6d3b\u554f\u984c\uff0c\u8f49\u63db\u6210\u6578\u500b\u8cc7\u6599\u554f\u984c\u6216\u6578\u5b78\u554f\u984c"
     ]
    },
    {
     "cell_type": "markdown",
     "metadata": {
      "slideshow": {
       "slide_type": "fragment"
      }
     },
     "source": [
      "# (5) \u89e3\u6c7a\u6578\u5b78\u554f\u984c"
     ]
    },
    {
     "cell_type": "markdown",
     "metadata": {
      "slideshow": {
       "slide_type": "fragment"
      }
     },
     "source": [
      "# (6) \u9a57\u8b49\u751f\u6d3b\u89e3\u7b54 "
     ]
    },
    {
     "cell_type": "markdown",
     "metadata": {
      "slideshow": {
       "slide_type": "subslide"
      }
     },
     "source": [
      "# \u904e\u7a0b\u5927\u6982\u5c31\u50cf\u9019\u6a23 ... "
     ]
    },
    {
     "cell_type": "markdown",
     "metadata": {
      "slideshow": {
       "slide_type": "fragment"
      }
     },
     "source": [
      "![](imgs/MLDM_process.png)\n"
     ]
    },
    {
     "cell_type": "markdown",
     "metadata": {
      "slideshow": {
       "slide_type": "subslide"
      }
     },
     "source": [
      "# \u5728\u5be6\u969b\u61c9\u7528\u7684\u8a08\u7d71\u4e2d\uff0c\u6709\u4e00\u7a2e\u975e\u5e38\u5e38\u898b Trade-Off \u7d50\u69cb ... "
     ]
    },
    {
     "cell_type": "markdown",
     "metadata": {
      "slideshow": {
       "slide_type": "fragment"
      }
     },
     "source": [
      "# Coverage & Accuracy Trade-Off "
     ]
    },
    {
     "cell_type": "markdown",
     "metadata": {
      "slideshow": {
       "slide_type": "subslide"
      }
     },
     "source": [
      "# \u5f9e\u4e00\u500b\u4f8b\u5b50\u4f86\u770b ... \u5169\u7a2e\u4e0d\u540c\u7684\u554f\u984c ... "
     ]
    },
    {
     "cell_type": "markdown",
     "metadata": {
      "slideshow": {
       "slide_type": "fragment"
      }
     },
     "source": [
      "![](755486853.png)"
     ]
    },
    {
     "cell_type": "markdown",
     "metadata": {
      "slideshow": {
       "slide_type": "fragment"
      }
     },
     "source": [
      "# [Real Q1] \u5982\u4f55\u8b93\u6b63\u59b9\u90fd\u5206\u5c0d\uff1f\n",
      "# [Real Q2] \u5982\u4f55\u8b93\u6b63\u59b9\u7fa4\u4e2d\u53ea\u6709\u6b63\u59b9\uff1f"
     ]
    },
    {
     "cell_type": "markdown",
     "metadata": {
      "slideshow": {
       "slide_type": "subslide"
      }
     },
     "source": [
      "# [Real S1] \u52a0\u91cd\u6b63\u59b9\u6b0a\u91cd\uff1f\n",
      "# [Real S2] \u52a0\u91cd\u6050\u9f8d\u6b0a\u91cd\uff1f"
     ]
    },
    {
     "cell_type": "markdown",
     "metadata": {
      "slideshow": {
       "slide_type": "subslide"
      }
     },
     "source": [
      "# \u5982\u679c\u628a \u300c\u6b63\u59b9\u300d \u63db\u6210 \u300c\u80a1\u7968\u300d\uff1f \u6216\u63db\u6210\u5176\u4ed6\u6771\u897f\uff1f\n",
      "![](755499917.png)\n"
     ]
    },
    {
     "cell_type": "markdown",
     "metadata": {
      "slideshow": {
       "slide_type": "subslide"
      }
     },
     "source": [
      "# \u8b1b\u5230\u9019\u88e1\uff0c\u9806\u4fbf\u8b1b\u4e00\u4e0b ... "
     ]
    },
    {
     "cell_type": "markdown",
     "metadata": {
      "slideshow": {
       "slide_type": "fragment"
      }
     },
     "source": [
      "# \u8cc7\u6599\u5411\u91cf\u5316\uff0c\u548c\u554f\u984c\u6578\u5b78\u5316\u4e2d\u7684\u300c\u9677\u9631\u300d ... "
     ]
    },
    {
     "cell_type": "markdown",
     "metadata": {
      "slideshow": {
       "slide_type": "subslide"
      }
     },
     "source": [
      "# \u4ee5\u6587\u672c\u5206\u6790\u70ba\u4f8b ... "
     ]
    },
    {
     "cell_type": "markdown",
     "metadata": {
      "slideshow": {
       "slide_type": "fragment"
      }
     },
     "source": [
      "![](Web_Ptt_article.png)"
     ]
    },
    {
     "cell_type": "markdown",
     "metadata": {
      "slideshow": {
       "slide_type": "subslide"
      }
     },
     "source": [
      "# \u5047\u8a2d\u6211\u4eca\u5929\u624b\u4e0a\u6709\u4e00\u4e9b\u6587\u672c ... "
     ]
    },
    {
     "cell_type": "code",
     "collapsed": false,
     "input": [
      "import pandas as pd \n",
      "test_text_df = pd.DataFrame([u\"\u4eca\u5929\u5929\u6c23\u5f88\u597d\",u\"\u4eca\u5929\u5929\u6c23\u5f88\u721b\",u\"\u6211\u6068\u5b83\",u\"\u5b83\u6068\u6211\",u\"\u6211\u611b\u5b83\",u\"\u5b83\u611b\u6211\",u\"\u4eca\u5929\u5f88\u8870\",u\"\u65e5\u5b50\u4e00\u5929\u4e00\u5929\u904e\",u\"\u5929\u5929\u5237\u7259\u6d17\u81c9\"])\n",
      "test_text_df.columns = [\"text\"]\n",
      "test_text_df"
     ],
     "language": "python",
     "metadata": {
      "slideshow": {
       "slide_type": "fragment"
      }
     },
     "outputs": [
      {
       "html": [
        "<div style=\"max-height:1000px;max-width:1500px;overflow:auto;\">\n",
        "<table border=\"1\" class=\"dataframe\">\n",
        "  <thead>\n",
        "    <tr style=\"text-align: right;\">\n",
        "      <th></th>\n",
        "      <th>text</th>\n",
        "    </tr>\n",
        "  </thead>\n",
        "  <tbody>\n",
        "    <tr>\n",
        "      <th>0</th>\n",
        "      <td>  \u4eca\u5929\u5929\u6c23\u5f88\u597d</td>\n",
        "    </tr>\n",
        "    <tr>\n",
        "      <th>1</th>\n",
        "      <td>  \u4eca\u5929\u5929\u6c23\u5f88\u721b</td>\n",
        "    </tr>\n",
        "    <tr>\n",
        "      <th>2</th>\n",
        "      <td>     \u6211\u6068\u5b83</td>\n",
        "    </tr>\n",
        "    <tr>\n",
        "      <th>3</th>\n",
        "      <td>     \u5b83\u6068\u6211</td>\n",
        "    </tr>\n",
        "    <tr>\n",
        "      <th>4</th>\n",
        "      <td>     \u6211\u611b\u5b83</td>\n",
        "    </tr>\n",
        "    <tr>\n",
        "      <th>5</th>\n",
        "      <td>     \u5b83\u611b\u6211</td>\n",
        "    </tr>\n",
        "    <tr>\n",
        "      <th>6</th>\n",
        "      <td>    \u4eca\u5929\u5f88\u8870</td>\n",
        "    </tr>\n",
        "    <tr>\n",
        "      <th>7</th>\n",
        "      <td> \u65e5\u5b50\u4e00\u5929\u4e00\u5929\u904e</td>\n",
        "    </tr>\n",
        "    <tr>\n",
        "      <th>8</th>\n",
        "      <td>  \u5929\u5929\u5237\u7259\u6d17\u81c9</td>\n",
        "    </tr>\n",
        "  </tbody>\n",
        "</table>\n",
        "<p>9 rows \u00d7 1 columns</p>\n",
        "</div>"
       ],
       "metadata": {},
       "output_type": "pyout",
       "prompt_number": 4,
       "text": [
        "      text\n",
        "0   \u4eca\u5929\u5929\u6c23\u5f88\u597d\n",
        "1   \u4eca\u5929\u5929\u6c23\u5f88\u721b\n",
        "2      \u6211\u6068\u5b83\n",
        "3      \u5b83\u6068\u6211\n",
        "4      \u6211\u611b\u5b83\n",
        "5      \u5b83\u611b\u6211\n",
        "6     \u4eca\u5929\u5f88\u8870\n",
        "7  \u65e5\u5b50\u4e00\u5929\u4e00\u5929\u904e\n",
        "8   \u5929\u5929\u5237\u7259\u6d17\u81c9\n",
        "\n",
        "[9 rows x 1 columns]"
       ]
      }
     ],
     "prompt_number": 4
    },
    {
     "cell_type": "markdown",
     "metadata": {
      "slideshow": {
       "slide_type": "subslide"
      }
     },
     "source": [
      "# \u6211\u6709\u5f88\u591a\u7a2e\u65b9\u6cd5\uff0c\u53ef\u4ee5\u628a\u4ed6\u5011\u5411\u91cf\u5316 ... "
     ]
    },
    {
     "cell_type": "markdown",
     "metadata": {
      "slideshow": {
       "slide_type": "subslide"
      }
     },
     "source": [
      "# \u6bd4\u65b9\u8aaa ... unigram ... "
     ]
    },
    {
     "cell_type": "code",
     "collapsed": false,
     "input": [
      "import PlaYnlp.tokenizer as tkr \n",
      "import PlaYnlp.vectorizer as vcr \n",
      "import numpy as np\n",
      "import scipy as sp\n",
      "jieba_without_html_tokenizer = tkr.tokenize_gen(lambda text:tkr.jieba.cut(tkr.nltk.clean_html(text)))\n",
      "unigram_without_html_tokenizer = tkr.tokenize_gen(lambda text:tkr.ngram(tkr.nltk.clean_html(text),n=1))\n",
      "bigram_without_html_tokenizer = tkr.tokenize_gen(lambda text:tkr.ngram(tkr.nltk.clean_html(text),n=2))\n",
      "jieba_vec_count_kwargs = {\"tokenizer\":jieba_without_html_tokenizer,\"lowercase\":False}\n",
      "unigram_vec_count_kwargs = {\"tokenizer\":unigram_without_html_tokenizer,\"lowercase\":False}\n",
      "bigram_vec_count_kwargs = {\"tokenizer\":bigram_without_html_tokenizer,\"lowercase\":False}\n",
      "test_jieba_sdtm = vcr.vectorize_text(df=test_text_df,\n",
      "                                     text_col=\"text\", \n",
      "                                     idx_col=None, \n",
      "                                     cond_query={},\n",
      "                                     idx_query= [],\n",
      "                                     vect_gen=vcr.CountVectorizer, \n",
      "                                     vect_gen_init_kwargs = jieba_vec_count_kwargs)\n",
      "\n",
      "test_unigram_sdtm = vcr.vectorize_text(df=test_text_df,\n",
      "                                     text_col=\"text\", \n",
      "                                     idx_col=None, \n",
      "                                     cond_query={},\n",
      "                                     idx_query= [],\n",
      "                                     vect_gen=vcr.CountVectorizer, \n",
      "                                     vect_gen_init_kwargs = unigram_vec_count_kwargs)\n",
      "\n",
      "test_bigram_sdtm = vcr.vectorize_text(df=test_text_df,\n",
      "                                     text_col=\"text\", \n",
      "                                     idx_col=None, \n",
      "                                     cond_query={},\n",
      "                                     idx_query= [],\n",
      "                                     vect_gen=vcr.CountVectorizer, \n",
      "                                     vect_gen_init_kwargs = bigram_vec_count_kwargs)"
     ],
     "language": "python",
     "metadata": {
      "slideshow": {
       "slide_type": "skip"
      }
     },
     "outputs": [
      {
       "output_type": "stream",
       "stream": "stderr",
       "text": [
        "Building Trie..., from /usr/local/lib/python2.7/dist-packages/jieba/dict.txt\n",
        "dumping model to file cache /tmp/jieba.cache"
       ]
      },
      {
       "output_type": "stream",
       "stream": "stderr",
       "text": [
        "\n",
        "loading model cost "
       ]
      },
      {
       "output_type": "stream",
       "stream": "stderr",
       "text": [
        " 4.92377996445 seconds.\n",
        "Trie has been built succesfully.\n"
       ]
      }
     ],
     "prompt_number": 8
    },
    {
     "cell_type": "code",
     "collapsed": false,
     "input": [
      "pd.DataFrame(test_unigram_sdtm._smatrix.todense(), columns=test_unigram_sdtm._col_idx)"
     ],
     "language": "python",
     "metadata": {
      "slideshow": {
       "slide_type": "fragment"
      }
     },
     "outputs": [
      {
       "html": [
        "<div style=\"max-height:1000px;max-width:1500px;overflow:auto;\">\n",
        "<table border=\"1\" class=\"dataframe\">\n",
        "  <thead>\n",
        "    <tr style=\"text-align: right;\">\n",
        "      <th></th>\n",
        "      <th>\u4e00</th>\n",
        "      <th>\u4eca</th>\n",
        "      <th>\u5237</th>\n",
        "      <th>\u5929</th>\n",
        "      <th>\u597d</th>\n",
        "      <th>\u5b50</th>\n",
        "      <th>\u5b83</th>\n",
        "      <th>\u5f88</th>\n",
        "      <th>\u6068</th>\n",
        "      <th>\u611b</th>\n",
        "      <th>\u6211</th>\n",
        "      <th>\u65e5</th>\n",
        "      <th>\u6c23</th>\n",
        "      <th>\u6d17</th>\n",
        "      <th>\u721b</th>\n",
        "      <th>\u7259</th>\n",
        "      <th>\u81c9</th>\n",
        "      <th>\u8870</th>\n",
        "      <th>\u904e</th>\n",
        "    </tr>\n",
        "  </thead>\n",
        "  <tbody>\n",
        "    <tr>\n",
        "      <th>0</th>\n",
        "      <td> 0</td>\n",
        "      <td> 1</td>\n",
        "      <td> 0</td>\n",
        "      <td> 2</td>\n",
        "      <td> 1</td>\n",
        "      <td> 0</td>\n",
        "      <td> 0</td>\n",
        "      <td> 1</td>\n",
        "      <td> 0</td>\n",
        "      <td> 0</td>\n",
        "      <td> 0</td>\n",
        "      <td> 0</td>\n",
        "      <td> 1</td>\n",
        "      <td> 0</td>\n",
        "      <td> 0</td>\n",
        "      <td> 0</td>\n",
        "      <td> 0</td>\n",
        "      <td> 0</td>\n",
        "      <td> 0</td>\n",
        "    </tr>\n",
        "    <tr>\n",
        "      <th>1</th>\n",
        "      <td> 0</td>\n",
        "      <td> 1</td>\n",
        "      <td> 0</td>\n",
        "      <td> 2</td>\n",
        "      <td> 0</td>\n",
        "      <td> 0</td>\n",
        "      <td> 0</td>\n",
        "      <td> 1</td>\n",
        "      <td> 0</td>\n",
        "      <td> 0</td>\n",
        "      <td> 0</td>\n",
        "      <td> 0</td>\n",
        "      <td> 1</td>\n",
        "      <td> 0</td>\n",
        "      <td> 1</td>\n",
        "      <td> 0</td>\n",
        "      <td> 0</td>\n",
        "      <td> 0</td>\n",
        "      <td> 0</td>\n",
        "    </tr>\n",
        "    <tr>\n",
        "      <th>2</th>\n",
        "      <td> 0</td>\n",
        "      <td> 0</td>\n",
        "      <td> 0</td>\n",
        "      <td> 0</td>\n",
        "      <td> 0</td>\n",
        "      <td> 0</td>\n",
        "      <td> 1</td>\n",
        "      <td> 0</td>\n",
        "      <td> 1</td>\n",
        "      <td> 0</td>\n",
        "      <td> 1</td>\n",
        "      <td> 0</td>\n",
        "      <td> 0</td>\n",
        "      <td> 0</td>\n",
        "      <td> 0</td>\n",
        "      <td> 0</td>\n",
        "      <td> 0</td>\n",
        "      <td> 0</td>\n",
        "      <td> 0</td>\n",
        "    </tr>\n",
        "    <tr>\n",
        "      <th>3</th>\n",
        "      <td> 0</td>\n",
        "      <td> 0</td>\n",
        "      <td> 0</td>\n",
        "      <td> 0</td>\n",
        "      <td> 0</td>\n",
        "      <td> 0</td>\n",
        "      <td> 1</td>\n",
        "      <td> 0</td>\n",
        "      <td> 1</td>\n",
        "      <td> 0</td>\n",
        "      <td> 1</td>\n",
        "      <td> 0</td>\n",
        "      <td> 0</td>\n",
        "      <td> 0</td>\n",
        "      <td> 0</td>\n",
        "      <td> 0</td>\n",
        "      <td> 0</td>\n",
        "      <td> 0</td>\n",
        "      <td> 0</td>\n",
        "    </tr>\n",
        "    <tr>\n",
        "      <th>4</th>\n",
        "      <td> 0</td>\n",
        "      <td> 0</td>\n",
        "      <td> 0</td>\n",
        "      <td> 0</td>\n",
        "      <td> 0</td>\n",
        "      <td> 0</td>\n",
        "      <td> 1</td>\n",
        "      <td> 0</td>\n",
        "      <td> 0</td>\n",
        "      <td> 1</td>\n",
        "      <td> 1</td>\n",
        "      <td> 0</td>\n",
        "      <td> 0</td>\n",
        "      <td> 0</td>\n",
        "      <td> 0</td>\n",
        "      <td> 0</td>\n",
        "      <td> 0</td>\n",
        "      <td> 0</td>\n",
        "      <td> 0</td>\n",
        "    </tr>\n",
        "    <tr>\n",
        "      <th>5</th>\n",
        "      <td> 0</td>\n",
        "      <td> 0</td>\n",
        "      <td> 0</td>\n",
        "      <td> 0</td>\n",
        "      <td> 0</td>\n",
        "      <td> 0</td>\n",
        "      <td> 1</td>\n",
        "      <td> 0</td>\n",
        "      <td> 0</td>\n",
        "      <td> 1</td>\n",
        "      <td> 1</td>\n",
        "      <td> 0</td>\n",
        "      <td> 0</td>\n",
        "      <td> 0</td>\n",
        "      <td> 0</td>\n",
        "      <td> 0</td>\n",
        "      <td> 0</td>\n",
        "      <td> 0</td>\n",
        "      <td> 0</td>\n",
        "    </tr>\n",
        "    <tr>\n",
        "      <th>6</th>\n",
        "      <td> 0</td>\n",
        "      <td> 1</td>\n",
        "      <td> 0</td>\n",
        "      <td> 1</td>\n",
        "      <td> 0</td>\n",
        "      <td> 0</td>\n",
        "      <td> 0</td>\n",
        "      <td> 1</td>\n",
        "      <td> 0</td>\n",
        "      <td> 0</td>\n",
        "      <td> 0</td>\n",
        "      <td> 0</td>\n",
        "      <td> 0</td>\n",
        "      <td> 0</td>\n",
        "      <td> 0</td>\n",
        "      <td> 0</td>\n",
        "      <td> 0</td>\n",
        "      <td> 1</td>\n",
        "      <td> 0</td>\n",
        "    </tr>\n",
        "    <tr>\n",
        "      <th>7</th>\n",
        "      <td> 2</td>\n",
        "      <td> 0</td>\n",
        "      <td> 0</td>\n",
        "      <td> 2</td>\n",
        "      <td> 0</td>\n",
        "      <td> 1</td>\n",
        "      <td> 0</td>\n",
        "      <td> 0</td>\n",
        "      <td> 0</td>\n",
        "      <td> 0</td>\n",
        "      <td> 0</td>\n",
        "      <td> 1</td>\n",
        "      <td> 0</td>\n",
        "      <td> 0</td>\n",
        "      <td> 0</td>\n",
        "      <td> 0</td>\n",
        "      <td> 0</td>\n",
        "      <td> 0</td>\n",
        "      <td> 1</td>\n",
        "    </tr>\n",
        "    <tr>\n",
        "      <th>8</th>\n",
        "      <td> 0</td>\n",
        "      <td> 0</td>\n",
        "      <td> 1</td>\n",
        "      <td> 2</td>\n",
        "      <td> 0</td>\n",
        "      <td> 0</td>\n",
        "      <td> 0</td>\n",
        "      <td> 0</td>\n",
        "      <td> 0</td>\n",
        "      <td> 0</td>\n",
        "      <td> 0</td>\n",
        "      <td> 0</td>\n",
        "      <td> 0</td>\n",
        "      <td> 1</td>\n",
        "      <td> 0</td>\n",
        "      <td> 1</td>\n",
        "      <td> 1</td>\n",
        "      <td> 0</td>\n",
        "      <td> 0</td>\n",
        "    </tr>\n",
        "  </tbody>\n",
        "</table>\n",
        "<p>9 rows \u00d7 19 columns</p>\n",
        "</div>"
       ],
       "metadata": {},
       "output_type": "pyout",
       "prompt_number": 9,
       "text": [
        "   \u4e00  \u4eca  \u5237  \u5929  \u597d  \u5b50  \u5b83  \u5f88  \u6068  \u611b  \u6211  \u65e5  \u6c23  \u6d17  \u721b  \u7259  \u81c9  \u8870  \u904e\n",
        "0  0  1  0  2  1  0  0  1  0  0  0  0  1  0  0  0  0  0  0\n",
        "1  0  1  0  2  0  0  0  1  0  0  0  0  1  0  1  0  0  0  0\n",
        "2  0  0  0  0  0  0  1  0  1  0  1  0  0  0  0  0  0  0  0\n",
        "3  0  0  0  0  0  0  1  0  1  0  1  0  0  0  0  0  0  0  0\n",
        "4  0  0  0  0  0  0  1  0  0  1  1  0  0  0  0  0  0  0  0\n",
        "5  0  0  0  0  0  0  1  0  0  1  1  0  0  0  0  0  0  0  0\n",
        "6  0  1  0  1  0  0  0  1  0  0  0  0  0  0  0  0  0  1  0\n",
        "7  2  0  0  2  0  1  0  0  0  0  0  1  0  0  0  0  0  0  1\n",
        "8  0  0  1  2  0  0  0  0  0  0  0  0  0  1  0  1  1  0  0\n",
        "\n",
        "[9 rows x 19 columns]"
       ]
      }
     ],
     "prompt_number": 9
    },
    {
     "cell_type": "markdown",
     "metadata": {
      "slideshow": {
       "slide_type": "fragment"
      }
     },
     "source": [
      "# \u5927\u5bb6\u7528\u76f4\u89ba\u60f3\u60f3 ... \u300c\u6211\u6068\u5b83\u300d=\u300c\u5b83\u6068\u6211\u300d\u55ce\uff1f"
     ]
    },
    {
     "cell_type": "markdown",
     "metadata": {
      "slideshow": {
       "slide_type": "subslide"
      }
     },
     "source": [
      "# \u6bd4\u65b9\u8aaa ... bigram ... "
     ]
    },
    {
     "cell_type": "code",
     "collapsed": false,
     "input": [
      "pd.DataFrame(test_bigram_sdtm._smatrix.todense(), columns=test_bigram_sdtm._col_idx)"
     ],
     "language": "python",
     "metadata": {
      "slideshow": {
       "slide_type": "fragment"
      }
     },
     "outputs": [
      {
       "html": [
        "<div style=\"max-height:1000px;max-width:1500px;overflow:auto;\">\n",
        "<table border=\"1\" class=\"dataframe\">\n",
        "  <thead>\n",
        "    <tr style=\"text-align: right;\">\n",
        "      <th></th>\n",
        "      <th>\u4e00\u5929</th>\n",
        "      <th>\u4eca\u5929</th>\n",
        "      <th>\u5237\u7259</th>\n",
        "      <th>\u5929\u4e00</th>\n",
        "      <th>\u5929\u5237</th>\n",
        "      <th>\u5929\u5929</th>\n",
        "      <th>\u5929\u5f88</th>\n",
        "      <th>\u5929\u6c23</th>\n",
        "      <th>\u5929\u904e</th>\n",
        "      <th>\u5b50\u4e00</th>\n",
        "      <th>\u5b83\u6068</th>\n",
        "      <th>\u5b83\u611b</th>\n",
        "      <th>\u5f88\u597d</th>\n",
        "      <th>\u5f88\u721b</th>\n",
        "      <th>\u5f88\u8870</th>\n",
        "      <th>\u6068\u5b83</th>\n",
        "      <th>\u6068\u6211</th>\n",
        "      <th>\u611b\u5b83</th>\n",
        "      <th>\u611b\u6211</th>\n",
        "      <th>\u6211\u6068</th>\n",
        "      <th></th>\n",
        "    </tr>\n",
        "  </thead>\n",
        "  <tbody>\n",
        "    <tr>\n",
        "      <th>0</th>\n",
        "      <td> 0</td>\n",
        "      <td> 1</td>\n",
        "      <td> 0</td>\n",
        "      <td> 0</td>\n",
        "      <td> 0</td>\n",
        "      <td> 1</td>\n",
        "      <td> 0</td>\n",
        "      <td> 1</td>\n",
        "      <td> 0</td>\n",
        "      <td> 0</td>\n",
        "      <td> 0</td>\n",
        "      <td> 0</td>\n",
        "      <td> 1</td>\n",
        "      <td> 0</td>\n",
        "      <td> 0</td>\n",
        "      <td> 0</td>\n",
        "      <td> 0</td>\n",
        "      <td> 0</td>\n",
        "      <td> 0</td>\n",
        "      <td> 0</td>\n",
        "      <td>...</td>\n",
        "    </tr>\n",
        "    <tr>\n",
        "      <th>1</th>\n",
        "      <td> 0</td>\n",
        "      <td> 1</td>\n",
        "      <td> 0</td>\n",
        "      <td> 0</td>\n",
        "      <td> 0</td>\n",
        "      <td> 1</td>\n",
        "      <td> 0</td>\n",
        "      <td> 1</td>\n",
        "      <td> 0</td>\n",
        "      <td> 0</td>\n",
        "      <td> 0</td>\n",
        "      <td> 0</td>\n",
        "      <td> 0</td>\n",
        "      <td> 1</td>\n",
        "      <td> 0</td>\n",
        "      <td> 0</td>\n",
        "      <td> 0</td>\n",
        "      <td> 0</td>\n",
        "      <td> 0</td>\n",
        "      <td> 0</td>\n",
        "      <td>...</td>\n",
        "    </tr>\n",
        "    <tr>\n",
        "      <th>2</th>\n",
        "      <td> 0</td>\n",
        "      <td> 0</td>\n",
        "      <td> 0</td>\n",
        "      <td> 0</td>\n",
        "      <td> 0</td>\n",
        "      <td> 0</td>\n",
        "      <td> 0</td>\n",
        "      <td> 0</td>\n",
        "      <td> 0</td>\n",
        "      <td> 0</td>\n",
        "      <td> 0</td>\n",
        "      <td> 0</td>\n",
        "      <td> 0</td>\n",
        "      <td> 0</td>\n",
        "      <td> 0</td>\n",
        "      <td> 1</td>\n",
        "      <td> 0</td>\n",
        "      <td> 0</td>\n",
        "      <td> 0</td>\n",
        "      <td> 1</td>\n",
        "      <td>...</td>\n",
        "    </tr>\n",
        "    <tr>\n",
        "      <th>3</th>\n",
        "      <td> 0</td>\n",
        "      <td> 0</td>\n",
        "      <td> 0</td>\n",
        "      <td> 0</td>\n",
        "      <td> 0</td>\n",
        "      <td> 0</td>\n",
        "      <td> 0</td>\n",
        "      <td> 0</td>\n",
        "      <td> 0</td>\n",
        "      <td> 0</td>\n",
        "      <td> 1</td>\n",
        "      <td> 0</td>\n",
        "      <td> 0</td>\n",
        "      <td> 0</td>\n",
        "      <td> 0</td>\n",
        "      <td> 0</td>\n",
        "      <td> 1</td>\n",
        "      <td> 0</td>\n",
        "      <td> 0</td>\n",
        "      <td> 0</td>\n",
        "      <td>...</td>\n",
        "    </tr>\n",
        "    <tr>\n",
        "      <th>4</th>\n",
        "      <td> 0</td>\n",
        "      <td> 0</td>\n",
        "      <td> 0</td>\n",
        "      <td> 0</td>\n",
        "      <td> 0</td>\n",
        "      <td> 0</td>\n",
        "      <td> 0</td>\n",
        "      <td> 0</td>\n",
        "      <td> 0</td>\n",
        "      <td> 0</td>\n",
        "      <td> 0</td>\n",
        "      <td> 0</td>\n",
        "      <td> 0</td>\n",
        "      <td> 0</td>\n",
        "      <td> 0</td>\n",
        "      <td> 0</td>\n",
        "      <td> 0</td>\n",
        "      <td> 1</td>\n",
        "      <td> 0</td>\n",
        "      <td> 0</td>\n",
        "      <td>...</td>\n",
        "    </tr>\n",
        "    <tr>\n",
        "      <th>5</th>\n",
        "      <td> 0</td>\n",
        "      <td> 0</td>\n",
        "      <td> 0</td>\n",
        "      <td> 0</td>\n",
        "      <td> 0</td>\n",
        "      <td> 0</td>\n",
        "      <td> 0</td>\n",
        "      <td> 0</td>\n",
        "      <td> 0</td>\n",
        "      <td> 0</td>\n",
        "      <td> 0</td>\n",
        "      <td> 1</td>\n",
        "      <td> 0</td>\n",
        "      <td> 0</td>\n",
        "      <td> 0</td>\n",
        "      <td> 0</td>\n",
        "      <td> 0</td>\n",
        "      <td> 0</td>\n",
        "      <td> 1</td>\n",
        "      <td> 0</td>\n",
        "      <td>...</td>\n",
        "    </tr>\n",
        "    <tr>\n",
        "      <th>6</th>\n",
        "      <td> 0</td>\n",
        "      <td> 1</td>\n",
        "      <td> 0</td>\n",
        "      <td> 0</td>\n",
        "      <td> 0</td>\n",
        "      <td> 0</td>\n",
        "      <td> 1</td>\n",
        "      <td> 0</td>\n",
        "      <td> 0</td>\n",
        "      <td> 0</td>\n",
        "      <td> 0</td>\n",
        "      <td> 0</td>\n",
        "      <td> 0</td>\n",
        "      <td> 0</td>\n",
        "      <td> 1</td>\n",
        "      <td> 0</td>\n",
        "      <td> 0</td>\n",
        "      <td> 0</td>\n",
        "      <td> 0</td>\n",
        "      <td> 0</td>\n",
        "      <td>...</td>\n",
        "    </tr>\n",
        "    <tr>\n",
        "      <th>7</th>\n",
        "      <td> 2</td>\n",
        "      <td> 0</td>\n",
        "      <td> 0</td>\n",
        "      <td> 1</td>\n",
        "      <td> 0</td>\n",
        "      <td> 0</td>\n",
        "      <td> 0</td>\n",
        "      <td> 0</td>\n",
        "      <td> 1</td>\n",
        "      <td> 1</td>\n",
        "      <td> 0</td>\n",
        "      <td> 0</td>\n",
        "      <td> 0</td>\n",
        "      <td> 0</td>\n",
        "      <td> 0</td>\n",
        "      <td> 0</td>\n",
        "      <td> 0</td>\n",
        "      <td> 0</td>\n",
        "      <td> 0</td>\n",
        "      <td> 0</td>\n",
        "      <td>...</td>\n",
        "    </tr>\n",
        "    <tr>\n",
        "      <th>8</th>\n",
        "      <td> 0</td>\n",
        "      <td> 0</td>\n",
        "      <td> 1</td>\n",
        "      <td> 0</td>\n",
        "      <td> 1</td>\n",
        "      <td> 1</td>\n",
        "      <td> 0</td>\n",
        "      <td> 0</td>\n",
        "      <td> 0</td>\n",
        "      <td> 0</td>\n",
        "      <td> 0</td>\n",
        "      <td> 0</td>\n",
        "      <td> 0</td>\n",
        "      <td> 0</td>\n",
        "      <td> 0</td>\n",
        "      <td> 0</td>\n",
        "      <td> 0</td>\n",
        "      <td> 0</td>\n",
        "      <td> 0</td>\n",
        "      <td> 0</td>\n",
        "      <td>...</td>\n",
        "    </tr>\n",
        "  </tbody>\n",
        "</table>\n",
        "<p>9 rows \u00d7 25 columns</p>\n",
        "</div>"
       ],
       "metadata": {},
       "output_type": "pyout",
       "prompt_number": 10,
       "text": [
        "   \u4e00\u5929  \u4eca\u5929  \u5237\u7259  \u5929\u4e00  \u5929\u5237  \u5929\u5929  \u5929\u5f88  \u5929\u6c23  \u5929\u904e  \u5b50\u4e00  \u5b83\u6068  \u5b83\u611b  \u5f88\u597d  \u5f88\u721b  \u5f88\u8870  \u6068\u5b83  \u6068\u6211  \u611b\u5b83  \u611b\u6211  \\\n",
        "0   0   1   0   0   0   1   0   1   0   0   0   0   1   0   0   0   0   0   0   \n",
        "1   0   1   0   0   0   1   0   1   0   0   0   0   0   1   0   0   0   0   0   \n",
        "2   0   0   0   0   0   0   0   0   0   0   0   0   0   0   0   1   0   0   0   \n",
        "3   0   0   0   0   0   0   0   0   0   0   1   0   0   0   0   0   1   0   0   \n",
        "4   0   0   0   0   0   0   0   0   0   0   0   0   0   0   0   0   0   1   0   \n",
        "5   0   0   0   0   0   0   0   0   0   0   0   1   0   0   0   0   0   0   1   \n",
        "6   0   1   0   0   0   0   1   0   0   0   0   0   0   0   1   0   0   0   0   \n",
        "7   2   0   0   1   0   0   0   0   1   1   0   0   0   0   0   0   0   0   0   \n",
        "8   0   0   1   0   1   1   0   0   0   0   0   0   0   0   0   0   0   0   0   \n",
        "\n",
        "   \u6211\u6068      \n",
        "0   0 ...  \n",
        "1   0 ...  \n",
        "2   1 ...  \n",
        "3   0 ...  \n",
        "4   0 ...  \n",
        "5   0 ...  \n",
        "6   0 ...  \n",
        "7   0 ...  \n",
        "8   0 ...  \n",
        "\n",
        "[9 rows x 25 columns]"
       ]
      }
     ],
     "prompt_number": 10
    },
    {
     "cell_type": "markdown",
     "metadata": {
      "slideshow": {
       "slide_type": "subslide"
      }
     },
     "source": [
      "# \u6bd4\u65b9\u8aaa ... \u5982\u540c Wavelet \u822c\u7684 ... \u4e0d\u540c\u9577\u5ea6\u7684\u6bb5\u6cd5 ... "
     ]
    },
    {
     "cell_type": "code",
     "collapsed": false,
     "input": [
      "pd.DataFrame(test_jieba_sdtm._smatrix.todense(), columns=test_jieba_sdtm._col_idx)"
     ],
     "language": "python",
     "metadata": {
      "slideshow": {
       "slide_type": "fragment"
      }
     },
     "outputs": [
      {
       "html": [
        "<div style=\"max-height:1000px;max-width:1500px;overflow:auto;\">\n",
        "<table border=\"1\" class=\"dataframe\">\n",
        "  <thead>\n",
        "    <tr style=\"text-align: right;\">\n",
        "      <th></th>\n",
        "      <th>\u4e00\u5929</th>\n",
        "      <th>\u4eca\u5929</th>\n",
        "      <th>\u4eca\u5929\u5929\u6c23</th>\n",
        "      <th>\u5237\u7259</th>\n",
        "      <th>\u5929\u5929</th>\n",
        "      <th>\u597d</th>\n",
        "      <th>\u5b83</th>\n",
        "      <th>\u5f88</th>\n",
        "      <th>\u5f88\u721b</th>\n",
        "      <th>\u5f88\u8870</th>\n",
        "      <th>\u6068</th>\n",
        "      <th>\u611b\u6211</th>\n",
        "      <th>\u6211</th>\n",
        "      <th>\u6211\u611b\u5b83</th>\n",
        "      <th>\u65e5\u5b50</th>\n",
        "      <th>\u6d17\u81c9</th>\n",
        "      <th>\u904e</th>\n",
        "    </tr>\n",
        "  </thead>\n",
        "  <tbody>\n",
        "    <tr>\n",
        "      <th>0</th>\n",
        "      <td> 0</td>\n",
        "      <td> 0</td>\n",
        "      <td> 1</td>\n",
        "      <td> 0</td>\n",
        "      <td> 0</td>\n",
        "      <td> 1</td>\n",
        "      <td> 0</td>\n",
        "      <td> 1</td>\n",
        "      <td> 0</td>\n",
        "      <td> 0</td>\n",
        "      <td> 0</td>\n",
        "      <td> 0</td>\n",
        "      <td> 0</td>\n",
        "      <td> 0</td>\n",
        "      <td> 0</td>\n",
        "      <td> 0</td>\n",
        "      <td> 0</td>\n",
        "    </tr>\n",
        "    <tr>\n",
        "      <th>1</th>\n",
        "      <td> 0</td>\n",
        "      <td> 0</td>\n",
        "      <td> 1</td>\n",
        "      <td> 0</td>\n",
        "      <td> 0</td>\n",
        "      <td> 0</td>\n",
        "      <td> 0</td>\n",
        "      <td> 0</td>\n",
        "      <td> 1</td>\n",
        "      <td> 0</td>\n",
        "      <td> 0</td>\n",
        "      <td> 0</td>\n",
        "      <td> 0</td>\n",
        "      <td> 0</td>\n",
        "      <td> 0</td>\n",
        "      <td> 0</td>\n",
        "      <td> 0</td>\n",
        "    </tr>\n",
        "    <tr>\n",
        "      <th>2</th>\n",
        "      <td> 0</td>\n",
        "      <td> 0</td>\n",
        "      <td> 0</td>\n",
        "      <td> 0</td>\n",
        "      <td> 0</td>\n",
        "      <td> 0</td>\n",
        "      <td> 1</td>\n",
        "      <td> 0</td>\n",
        "      <td> 0</td>\n",
        "      <td> 0</td>\n",
        "      <td> 1</td>\n",
        "      <td> 0</td>\n",
        "      <td> 1</td>\n",
        "      <td> 0</td>\n",
        "      <td> 0</td>\n",
        "      <td> 0</td>\n",
        "      <td> 0</td>\n",
        "    </tr>\n",
        "    <tr>\n",
        "      <th>3</th>\n",
        "      <td> 0</td>\n",
        "      <td> 0</td>\n",
        "      <td> 0</td>\n",
        "      <td> 0</td>\n",
        "      <td> 0</td>\n",
        "      <td> 0</td>\n",
        "      <td> 1</td>\n",
        "      <td> 0</td>\n",
        "      <td> 0</td>\n",
        "      <td> 0</td>\n",
        "      <td> 1</td>\n",
        "      <td> 0</td>\n",
        "      <td> 1</td>\n",
        "      <td> 0</td>\n",
        "      <td> 0</td>\n",
        "      <td> 0</td>\n",
        "      <td> 0</td>\n",
        "    </tr>\n",
        "    <tr>\n",
        "      <th>4</th>\n",
        "      <td> 0</td>\n",
        "      <td> 0</td>\n",
        "      <td> 0</td>\n",
        "      <td> 0</td>\n",
        "      <td> 0</td>\n",
        "      <td> 0</td>\n",
        "      <td> 0</td>\n",
        "      <td> 0</td>\n",
        "      <td> 0</td>\n",
        "      <td> 0</td>\n",
        "      <td> 0</td>\n",
        "      <td> 0</td>\n",
        "      <td> 0</td>\n",
        "      <td> 1</td>\n",
        "      <td> 0</td>\n",
        "      <td> 0</td>\n",
        "      <td> 0</td>\n",
        "    </tr>\n",
        "    <tr>\n",
        "      <th>5</th>\n",
        "      <td> 0</td>\n",
        "      <td> 0</td>\n",
        "      <td> 0</td>\n",
        "      <td> 0</td>\n",
        "      <td> 0</td>\n",
        "      <td> 0</td>\n",
        "      <td> 1</td>\n",
        "      <td> 0</td>\n",
        "      <td> 0</td>\n",
        "      <td> 0</td>\n",
        "      <td> 0</td>\n",
        "      <td> 1</td>\n",
        "      <td> 0</td>\n",
        "      <td> 0</td>\n",
        "      <td> 0</td>\n",
        "      <td> 0</td>\n",
        "      <td> 0</td>\n",
        "    </tr>\n",
        "    <tr>\n",
        "      <th>6</th>\n",
        "      <td> 0</td>\n",
        "      <td> 1</td>\n",
        "      <td> 0</td>\n",
        "      <td> 0</td>\n",
        "      <td> 0</td>\n",
        "      <td> 0</td>\n",
        "      <td> 0</td>\n",
        "      <td> 0</td>\n",
        "      <td> 0</td>\n",
        "      <td> 1</td>\n",
        "      <td> 0</td>\n",
        "      <td> 0</td>\n",
        "      <td> 0</td>\n",
        "      <td> 0</td>\n",
        "      <td> 0</td>\n",
        "      <td> 0</td>\n",
        "      <td> 0</td>\n",
        "    </tr>\n",
        "    <tr>\n",
        "      <th>7</th>\n",
        "      <td> 2</td>\n",
        "      <td> 0</td>\n",
        "      <td> 0</td>\n",
        "      <td> 0</td>\n",
        "      <td> 0</td>\n",
        "      <td> 0</td>\n",
        "      <td> 0</td>\n",
        "      <td> 0</td>\n",
        "      <td> 0</td>\n",
        "      <td> 0</td>\n",
        "      <td> 0</td>\n",
        "      <td> 0</td>\n",
        "      <td> 0</td>\n",
        "      <td> 0</td>\n",
        "      <td> 1</td>\n",
        "      <td> 0</td>\n",
        "      <td> 1</td>\n",
        "    </tr>\n",
        "    <tr>\n",
        "      <th>8</th>\n",
        "      <td> 0</td>\n",
        "      <td> 0</td>\n",
        "      <td> 0</td>\n",
        "      <td> 1</td>\n",
        "      <td> 1</td>\n",
        "      <td> 0</td>\n",
        "      <td> 0</td>\n",
        "      <td> 0</td>\n",
        "      <td> 0</td>\n",
        "      <td> 0</td>\n",
        "      <td> 0</td>\n",
        "      <td> 0</td>\n",
        "      <td> 0</td>\n",
        "      <td> 0</td>\n",
        "      <td> 0</td>\n",
        "      <td> 1</td>\n",
        "      <td> 0</td>\n",
        "    </tr>\n",
        "  </tbody>\n",
        "</table>\n",
        "<p>9 rows \u00d7 17 columns</p>\n",
        "</div>"
       ],
       "metadata": {},
       "output_type": "pyout",
       "prompt_number": 11,
       "text": [
        "   \u4e00\u5929  \u4eca\u5929  \u4eca\u5929\u5929\u6c23  \u5237\u7259  \u5929\u5929  \u597d  \u5b83  \u5f88  \u5f88\u721b  \u5f88\u8870  \u6068  \u611b\u6211  \u6211  \u6211\u611b\u5b83  \u65e5\u5b50  \u6d17\u81c9  \u904e\n",
        "0   0   0     1   0   0  1  0  1   0   0  0   0  0    0   0   0  0\n",
        "1   0   0     1   0   0  0  0  0   1   0  0   0  0    0   0   0  0\n",
        "2   0   0     0   0   0  0  1  0   0   0  1   0  1    0   0   0  0\n",
        "3   0   0     0   0   0  0  1  0   0   0  1   0  1    0   0   0  0\n",
        "4   0   0     0   0   0  0  0  0   0   0  0   0  0    1   0   0  0\n",
        "5   0   0     0   0   0  0  1  0   0   0  0   1  0    0   0   0  0\n",
        "6   0   1     0   0   0  0  0  0   0   1  0   0  0    0   0   0  0\n",
        "7   2   0     0   0   0  0  0  0   0   0  0   0  0    0   1   0  1\n",
        "8   0   0     0   1   1  0  0  0   0   0  0   0  0    0   0   1  0\n",
        "\n",
        "[9 rows x 17 columns]"
       ]
      }
     ],
     "prompt_number": 11
    },
    {
     "cell_type": "markdown",
     "metadata": {
      "slideshow": {
       "slide_type": "fragment"
      }
     },
     "source": [
      "# \u4e0d\u904e\uff0c\u300c\u4eca\u5929\u5929\u6c23\u300d\u548c\u300c\u4eca\u5929\u300d\u5b8c\u5168\u6c92\u6709\u76f8\u4f3c\u7a0b\u5ea6\u55ce\uff1f ... \u600e\u9ebc\u8fa6\u5462\uff1f"
     ]
    },
    {
     "cell_type": "markdown",
     "metadata": {
      "slideshow": {
       "slide_type": "slide"
      }
     },
     "source": [
      "# \u7531\u65bc\uff0c\u5c0f\u5f1f\u4ee5\u524d\u662f\u4f5c\u96fb\u5546\u5546\u54c1\u6bd4\u5c0d\u7cfb\u7d71\u7684 ... "
     ]
    },
    {
     "cell_type": "markdown",
     "metadata": {
      "slideshow": {
       "slide_type": "fragment"
      }
     },
     "source": [
      "# \u800c\u4e14\uff0c\u6700\u8fd1\uff0c\u655d\u516c\u53f8\u4e5f\u6709\u5728\u505a\u65b0\u805e\u63a8\u85a6\u7cfb\u7d71 ... "
     ]
    },
    {
     "cell_type": "markdown",
     "metadata": {
      "slideshow": {
       "slide_type": "fragment"
      }
     },
     "source": [
      "# \u5c0d\u65bc\u6587\u5b57\u8207\u6587\u5b57\u4e4b\u9593\u7684\u8ddd\u96e2\uff0c\u8a72\u5982\u4f55\u300c\u5b78\u7fd2\u300d\u8207\u5b9a\u7fa9\uff1f"
     ]
    },
    {
     "cell_type": "markdown",
     "metadata": {
      "slideshow": {
       "slide_type": "fragment"
      }
     },
     "source": [
      "# \u4ee5\u53ca\uff0c\u5716\u7247\u8207\u5716\u7247\u4e4b\u9593\u7684\u8ddd\u96e2\uff0c\u8a72\u5982\u4f55\u300c\u5b78\u7fd2\u300d\u8207\u5b9a\u7fa9\uff1f"
     ]
    },
    {
     "cell_type": "markdown",
     "metadata": {
      "slideshow": {
       "slide_type": "fragment"
      }
     },
     "source": [
      "# \u6709\u4f5c\u904e\u4e00\u4e9b\u6df1\u5165\u5be6\u9a57\u8207\u63a2\u7d22 ... "
     ]
    },
    {
     "cell_type": "markdown",
     "metadata": {
      "slideshow": {
       "slide_type": "slide"
      }
     },
     "source": [
      "# \u4e0d\u904e\uff0c\u95dc\u65bc\u5b57\u8a72\u5982\u4f55\u53d6\uff1f\u8ddd\u96e2\u8a72\u5982\u4f55\u5b9a\uff1f"
     ]
    },
    {
     "cell_type": "markdown",
     "metadata": {
      "slideshow": {
       "slide_type": "fragment"
      }
     },
     "source": [
      "# \u672c\u4f86\u5c31\u662f\u4e09\u5929\u4e09\u591c\u8b1b\u4e0d\u5b8c\u7684\u8b70\u984c ... "
     ]
    },
    {
     "cell_type": "markdown",
     "metadata": {
      "slideshow": {
       "slide_type": "fragment"
      }
     },
     "source": [
      "# \u76f8\u4fe1 DigiTimes \u61c9\u8a72\u6c92\u6709\u898f\u5283\u8b93\u5927\u5bb6\u7761\u9019\u958b\u7814\u8a0e\u6703 ... "
     ]
    },
    {
     "cell_type": "markdown",
     "metadata": {
      "slideshow": {
       "slide_type": "fragment"
      }
     },
     "source": [
      "# \u6240\u4ee5\uff0c\u4e5f\u53ea\u597d\u5148\u5fcd\u75db\u8df3\u904e\u4e86 ... "
     ]
    },
    {
     "cell_type": "markdown",
     "metadata": {
      "slideshow": {
       "slide_type": "slide"
      }
     },
     "source": [
      "# \u6f14\u8b1b\u7684\u6703\u5f8c\uff0c\u6211\u60f3\u548c\u5927\u5bb6\u8a0e\u8ad6\u4e00\u4e0b ... "
     ]
    },
    {
     "cell_type": "markdown",
     "metadata": {
      "slideshow": {
       "slide_type": "fragment"
      }
     },
     "source": [
      "# \u95dc\u65bc\u300c\u96f2\u7aef\u61c9\u7528\u7684\u90e8\u4efd\u300d"
     ]
    },
    {
     "cell_type": "markdown",
     "metadata": {
      "slideshow": {
       "slide_type": "slide"
      }
     },
     "source": [
      "# \u96d6\u7136 ... \u6211\u5011\u516c\u53f8\u4f5c\u5f88\u591a\u96f2\u7aef\u61c9\u7528 ... "
     ]
    },
    {
     "cell_type": "markdown",
     "metadata": {
      "slideshow": {
       "slide_type": "fragment"
      }
     },
     "source": [
      "# \u4e0d\u904e\uff0c\u56e0\u70ba\u6211\u6700\u8fd1\u5c08\u6ce8\u65bc\u300c\u63a8\u85a6\u7cfb\u7d71\u300d... "
     ]
    },
    {
     "cell_type": "markdown",
     "metadata": {
      "slideshow": {
       "slide_type": "fragment"
      }
     },
     "source": [
      "# \u6240\u4ee5\u4eca\u5929\u5c31\u4f86\u8ac7\u8ac7\u300c\u63a8\u85a6\u7cfb\u7d71\u300d\u5427\uff01"
     ]
    },
    {
     "cell_type": "markdown",
     "metadata": {
      "slideshow": {
       "slide_type": "slide"
      }
     },
     "source": [
      "# \u73fe\u5f62\u7684\u63a8\u85a6\u7cfb\u7d71\u5927\u6982\u53ef\u4ee5\u5206\u6210\u5169\u5927\u985e ... "
     ]
    },
    {
     "cell_type": "markdown",
     "metadata": {
      "slideshow": {
       "slide_type": "fragment"
      }
     },
     "source": [
      "## (1) \u5bcc\u4eba\u7248\u7684 Unmixture-Type (\u5927\u91cf\u4f7f\u7528 Tensor Completion \u6280\u8853)"
     ]
    },
    {
     "cell_type": "markdown",
     "metadata": {
      "slideshow": {
       "slide_type": "fragment"
      }
     },
     "source": [
      "## (2) \u7aae\u4eba\u7248\u7684 Mixture-Type (\u4f7f\u7528\u5404\u7a2e local approximatio system \u903c\u8fd1\u524d\u8005 ... )"
     ]
    },
    {
     "cell_type": "markdown",
     "metadata": {
      "slideshow": {
       "slide_type": "subslide"
      }
     },
     "source": [
      "# \u6dfa\u8ac7 Matrix Completion ... "
     ]
    },
    {
     "cell_type": "markdown",
     "metadata": {
      "slideshow": {
       "slide_type": "fragment"
      }
     },
     "source": [
      "![](Collaborative_filtering.gif)"
     ]
    },
    {
     "cell_type": "markdown",
     "metadata": {
      "slideshow": {
       "slide_type": "slide"
      }
     },
     "source": [
      "# \u5f37\u5927\u7684 Matrix Completion ... "
     ]
    },
    {
     "cell_type": "markdown",
     "metadata": {
      "slideshow": {
       "slide_type": "fragment"
      }
     },
     "source": [
      "![](mc1.png)"
     ]
    },
    {
     "cell_type": "markdown",
     "metadata": {
      "slideshow": {
       "slide_type": "subslide"
      }
     },
     "source": [
      "![](mc2.png)"
     ]
    },
    {
     "cell_type": "markdown",
     "metadata": {
      "slideshow": {
       "slide_type": "subslide"
      }
     },
     "source": [
      "![](mc3.png)"
     ]
    },
    {
     "cell_type": "markdown",
     "metadata": {
      "slideshow": {
       "slide_type": "fragment"
      }
     },
     "source": [
      "## ( \u59d4\u5c48\u5927\u5bb6\u4e86\uff0c\u56e0\u70ba\u6211\u7528\u524d\u540c\u4e8b\u7684\u6295\u5f71\u7247\uff0c\u4ed6\u8aaa\u4e0d\u653e\u9019\u5f35\u5c31\u4e0d\u8b93\u6211\u7528 XD ... ) "
     ]
    },
    {
     "cell_type": "markdown",
     "metadata": {
      "slideshow": {
       "slide_type": "subslide"
      }
     },
     "source": [
      "# \u5f9e Matrix Completion \u5230 Tensor Completion"
     ]
    },
    {
     "cell_type": "markdown",
     "metadata": {
      "slideshow": {
       "slide_type": "fragment"
      }
     },
     "source": [
      "![](mc4.png)"
     ]
    },
    {
     "cell_type": "markdown",
     "metadata": {
      "slideshow": {
       "slide_type": "subslide"
      }
     },
     "source": [
      "![](mc5.png)"
     ]
    },
    {
     "cell_type": "markdown",
     "metadata": {
      "slideshow": {
       "slide_type": "subslide"
      }
     },
     "source": [
      "# \u63a5\u4e0b\u4f86 ... \u6211\u5011\u8b1b\u4e00\u4e0b ... "
     ]
    },
    {
     "cell_type": "markdown",
     "metadata": {
      "slideshow": {
       "slide_type": "fragment"
      }
     },
     "source": [
      "# Mixture-Type \u7684\u63a8\u85a6\u7cfb\u7d71 \uff1f"
     ]
    },
    {
     "cell_type": "markdown",
     "metadata": {
      "slideshow": {
       "slide_type": "fragment"
      }
     },
     "source": [
      "## (\u9084\u6709\u6642\u9593\u55ce\uff1f)"
     ]
    },
    {
     "cell_type": "markdown",
     "metadata": {
      "slideshow": {
       "slide_type": "slide"
      }
     },
     "source": [
      "# \u7c21\u77ed\u7d50\u8a9e ... "
     ]
    },
    {
     "cell_type": "markdown",
     "metadata": {
      "slideshow": {
       "slide_type": "fragment"
      }
     },
     "source": [
      "# \u4e0d\u8ad6\u662f\u5728\u5b78\u7fd2\u4efb\u4f55\u7684\u4e8b\u7269\u6642\uff0c\u300c\u89c0\u5bdf\u76f4\u89ba\u300d\u4ee5\u53ca\u300c\u5be6\u4f5c\u6280\u8853\u300d\u90fd\u662f\u6700\u91cd\u8981\u7684\u5169\u5927\u584a\u3002\u53ea\u6709\u6df1\u523b\u7684\u76f4\u89ba\uff0c\u624d\u53ef\u4ee5\u99d5\u99ad\u85dd\u8853\u822c\u7684\u5be6\u4f5c\u6280\u8853\uff1b\u540c\u6a23\u7684\uff0c\u4e5f\u53ea\u6709\u5728\u900f\u5fb9\u4e86\u89e3\u300c\u5404\u7a2e\u5be6\u4f5c\u6280\u8853\u7684\u7f3a\u9ede\u8207\u9650\u5236\u300d\u6642\uff0c\u624d\u80fd\u5728\u8a31\u591a\u7684\u78b0\u649e\u8207\u632b\u6298\u7684\u7d93\u9a57\u4e2d\uff0c\u7fe0\u7df4\u51fa\u6df1\u523b\u7684\u76f4\u89ba\u8207\u89c0\u5bdf\u529b\u3002"
     ]
    },
    {
     "cell_type": "markdown",
     "metadata": {
      "slideshow": {
       "slide_type": "subslide"
      }
     },
     "source": [
      "# \u5982\u679c\u4f60\u76f8\u4fe1\u6211\u8b1b\u7684\u662f\u771f\u7684\u300c\u8cc7\u6599\u79d1\u5b78\u300d ... \u60f3\u66f4\u9032\u4e00\u6b65\u4e86\u89e3\u7684 ... "
     ]
    },
    {
     "cell_type": "markdown",
     "metadata": {
      "slideshow": {
       "slide_type": "subslide"
      }
     },
     "source": [
      "# \u6b61\u8fce\u5927\u5bb6\u4f86\u6211\u5011\u793e\u7fa4\u5750\u5750 ... \n",
      "\n",
      "- ## http://www.meetup.com/Taiwan-R/\n",
      "- ## https://www.facebook.com/Tw.R.User"
     ]
    },
    {
     "cell_type": "markdown",
     "metadata": {
      "slideshow": {
       "slide_type": "subslide"
      }
     },
     "source": [
      "# \u5982\u679c\u89ba\u5f97\u793e\u7fa4\u5b78\u7fd2\u592a\u6162 ... \u60f3\u77ed\u6642\u9593\u901f\u6210\u7684 ... "
     ]
    },
    {
     "cell_type": "markdown",
     "metadata": {
      "slideshow": {
       "slide_type": "subslide"
      }
     },
     "source": [
      "# \u4e5f\u6b61\u8fce\u5927\u5bb6\u4f86\u4e0a\u6211\u7684\u8ab2 ... \n",
      "\n",
      "- ## http://pycontw.kktix.cc/events/play-data"
     ]
    },
    {
     "cell_type": "markdown",
     "metadata": {
      "slideshow": {
       "slide_type": "slide"
      }
     },
     "source": [
      "# \u5c0d\u4e86 ... \u597d\u50cf\u5fd8\u4e86\u4ec0\u9ebc ... "
     ]
    },
    {
     "cell_type": "markdown",
     "metadata": {
      "slideshow": {
       "slide_type": "subslide"
      }
     },
     "source": [
      "# \u5176\u5be6\u6211\u5011\u770b\u5230\u7684\u4e16\u754c\uff0c\u7e3d\u662f\u548c\u771f\u5be6\u7684\u4e0d\u592a\u4e00\u6a23 ... \n",
      "\n"
     ]
    },
    {
     "cell_type": "markdown",
     "metadata": {
      "slideshow": {
       "slide_type": "subslide"
      }
     },
     "source": [
      "![](cats_looks_mirror.jpg)\n"
     ]
    },
    {
     "cell_type": "markdown",
     "metadata": {
      "slideshow": {
       "slide_type": "subslide"
      }
     },
     "source": [
      "# \u800c\u8cc7\u6599\u5206\u6790\uff0c\u4e5f\u53ea\u662f\u5728\u63cf\u7e6a\u771f\u5be6\u4e16\u754c\u7684\u4e00\u500b\u9762\u5411\u800c\u5df2 ... "
     ]
    },
    {
     "cell_type": "markdown",
     "metadata": {
      "slideshow": {
       "slide_type": "subslide"
      }
     },
     "source": [
      "![](COSCUP_R_Pic8.jpg)"
     ]
    },
    {
     "cell_type": "markdown",
     "metadata": {
      "slideshow": {
       "slide_type": "subslide"
      }
     },
     "source": [
      "# \u552f\u6709\u653e\u4e0b\u57f7\u8457\uff0c\u624d\u80fd\u770b\u5230\u66f4\u591a\u66f4\u5ee3\u7684\u9762\u5411 ... "
     ]
    },
    {
     "cell_type": "markdown",
     "metadata": {
      "slideshow": {
       "slide_type": "subslide"
      }
     },
     "source": [
      "# \u8b1d\u8b1d\u5927\u5bb6 !!!"
     ]
    }
   ],
   "metadata": {}
  }
 ]
}