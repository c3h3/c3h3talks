{
 "metadata": {
  "celltoolbar": "Slideshow",
  "name": "",
  "signature": "sha256:35f4417a8bf189cb2054a56fe15fa1564231b4f97c814498279d244b8ee95e2e"
 },
 "nbformat": 3,
 "nbformat_minor": 0,
 "worksheets": [
  {
   "cells": [
    {
     "cell_type": "markdown",
     "metadata": {
      "slideshow": {
       "slide_type": "slide"
      }
     },
     "source": [
      "# \u61c9\u7528\uff1f\u6578\u5b78\uff1f"
     ]
    },
    {
     "cell_type": "markdown",
     "metadata": {},
     "source": [
      "## Chia-Chi Chang"
     ]
    },
    {
     "cell_type": "markdown",
     "metadata": {
      "slideshow": {
       "slide_type": "subslide"
      }
     },
     "source": [
      "# \u5176\u5be6 ... \u4e00\u822c\u4f86\u8aaa\uff0c\u6211\u6f14\u8b1b\u90fd\u4e0d\u505a\u81ea\u6211\u4ecb\u7d39\u7684 ... "
     ]
    },
    {
     "cell_type": "markdown",
     "metadata": {
      "slideshow": {
       "slide_type": "fragment"
      }
     },
     "source": [
      "# \u4e0d\u904e\uff0c\u70ba\u4e86\u62c9\u8fd1\u53f0\u4e0a\u53f0\u4e0b\u7684\u8ddd\u96e2\uff0c\u4eca\u5929\u5c31\u4f86\u7834\u500b\u4f8b\u5427 ... "
     ]
    },
    {
     "cell_type": "markdown",
     "metadata": {
      "slideshow": {
       "slide_type": "subslide"
      }
     },
     "source": [
      "# \u6211\u662f ... \uff1f"
     ]
    },
    {
     "cell_type": "markdown",
     "metadata": {
      "slideshow": {
       "slide_type": "fragment"
      }
     },
     "source": [
      "# \u6210\u5927\u6578\u5b78 96 \u7d1a\u7562\u696d\u7684\u6821\u53cb ... "
     ]
    },
    {
     "cell_type": "markdown",
     "metadata": {
      "slideshow": {
       "slide_type": "fragment"
      }
     },
     "source": [
      "# \u5f9e\u570b\u4e2d\u958b\u59cb\uff0c\u5c31\u975e\u5e38\u559c\u6b61\u6578\u5b78 ... \u76f4\u5230\u73fe\u5728 ... "
     ]
    },
    {
     "cell_type": "markdown",
     "metadata": {
      "slideshow": {
       "slide_type": "fragment"
      }
     },
     "source": [
      "# \u975e\u5e38\u559c\u6b61\u63a2\u7d22\u6578\u5b78\u80cc\u5f8c\u7684\u300c\u76f4\u89ba\u300d ... "
     ]
    },
    {
     "cell_type": "markdown",
     "metadata": {
      "slideshow": {
       "slide_type": "subslide"
      }
     },
     "source": [
      "# \u4e3b\u8981\u5c08\u9577\uff1a\u5f88\u559c\u6b61\u554f\u5947\u602a\u7684\u554f\u984c ... XD ..."
     ]
    },
    {
     "cell_type": "markdown",
     "metadata": {
      "slideshow": {
       "slide_type": "subslide"
      }
     },
     "source": [
      "# \u6bd4\u65b9\u8aaa\uff0c\u6211\u570b\u4e2d\u6642\uff0c\u5c31\u66fe\u7d93\u601d\u8003\u904e ... "
     ]
    },
    {
     "cell_type": "markdown",
     "metadata": {
      "slideshow": {
       "slide_type": "fragment"
      }
     },
     "source": [
      "# \u80fd\u4e0d\u80fd\u7528\u807d\u89ba\uff1f\u53bb\u611f\u53d7\u4e26\u8a8d\u77e5\u9019\u500b\u4e16\u754c\u662f 3D \u7684\uff1f"
     ]
    },
    {
     "cell_type": "markdown",
     "metadata": {
      "slideshow": {
       "slide_type": "fragment"
      }
     },
     "source": [
      "# \u5728\u5750\u6709\u4eba\u807d\u904e Mark Kac \u4e26\u770b\u904e\u4ed6\u7684\u8ad6\u6587\u55ce\uff1f ... "
     ]
    },
    {
     "cell_type": "markdown",
     "metadata": {
      "slideshow": {
       "slide_type": "fragment"
      }
     },
     "source": [
      "# \u63a8\u85a6\u5927\u5bb6\u53bb\u770b\u300aEnigmas of Chance\u300b ... "
     ]
    },
    {
     "cell_type": "markdown",
     "metadata": {
      "slideshow": {
       "slide_type": "subslide"
      }
     },
     "source": [
      "# \u4e5f\u8a31\u525b\u525b\u90a3\u500b\u554f\u984c\u9084\u4e0d\u5920\u5947\u602a ... "
     ]
    },
    {
     "cell_type": "markdown",
     "metadata": {
      "slideshow": {
       "slide_type": "fragment"
      }
     },
     "source": [
      "# \u6211\u570b\u4e2d\u6642 ... \u4e5f\u5c64\u6df1\u6df1\u7684\u601d\u8003\u904e\u4e00\u500b\u6559\u80b2\u554f\u984c ... \uff1f"
     ]
    },
    {
     "cell_type": "markdown",
     "metadata": {
      "slideshow": {
       "slide_type": "fragment"
      }
     },
     "source": [
      "# \u70ba\u4ec0\u9ebc\u300c\u53ea\u6709\u8001\u5e2b\u53ef\u4ee5\u8003\u5b78\u751f\uff1f\u300d\uff0c\u800c\u300c\u5b78\u751f\u4e0d\u80fd\u8003\u8001\u5e2b\uff1f\u300d"
     ]
    },
    {
     "cell_type": "markdown",
     "metadata": {
      "slideshow": {
       "slide_type": "subslide"
      }
     },
     "source": [
      "# \u5176\u5be6\uff0c\u6211\u5c0f\u6642\u5019\u975e\u5e38\u7684\u60f3\u7576\u6578\u5b78\u5bb6\uff0c\u6216\u662f\u7576\u6578\u5b78\u7cfb\u7684\u6559\u6388 ... "
     ]
    },
    {
     "cell_type": "markdown",
     "metadata": {
      "slideshow": {
       "slide_type": "fragment"
      }
     },
     "source": [
      "# \u7576\u6642\u6211\u5c31\u5728\u60f3 ... \u5982\u679c\u6709\u4e00\u5929\u6211\u7576\u6559\u6388\u6642\uff0c\u6211\u4e00\u5b9a\u8981\u958b\u5275\u5b78\u751f\u8003\u8001\u5e2b\u7684\u8a55\u5206\u5236\u5ea6 ... "
     ]
    },
    {
     "cell_type": "markdown",
     "metadata": {
      "slideshow": {
       "slide_type": "subslide"
      }
     },
     "source": [
      "# \u9019\u4e26\u4e0d\u662f\u9f13\u52f5\u5b78\u751f\u9769\u547d\uff0c\u800c\u662f\u9f13\u52f5\u7368\u7acb\u601d\u8003\uff0c\u4e26\u4e14\u8b93\u5e2b\u751f\u53ef\u4ee5\u6df1\u5ea6\u6e9d\u901a ... "
     ]
    },
    {
     "cell_type": "markdown",
     "metadata": {
      "slideshow": {
       "slide_type": "fragment"
      }
     },
     "source": [
      "# \u8001\u5e2b\u53ef\u4ee5\u900f\u7531\u8003\u5377\uff0c\u544a\u8a34\u5b78\u751f\uff0c\u300c\u4ed6\u5e0c\u671b\u5b78\u751f\u80fd\u300e\u5b78\u6703\u300f\u4ec0\u9ebc\uff1f\u300d"
     ]
    },
    {
     "cell_type": "markdown",
     "metadata": {
      "slideshow": {
       "slide_type": "fragment"
      }
     },
     "source": [
      "# \u5b78\u751f\u53ef\u4ee5\u900f\u7531\u8003\u5377\uff0c\u544a\u8a34\u8001\u5e2b\uff0c\u300c\u4ed6\u5e0c\u671b\u5728\u9019\u5802\u8ab2\u80fd\u300e\u5b78\u5230\u300f\u4ec0\u9ebc\uff1f\u300d"
     ]
    },
    {
     "cell_type": "markdown",
     "metadata": {
      "slideshow": {
       "slide_type": "subslide"
      }
     },
     "source": [
      "# \u70ba\u4ec0\u9ebc\u300c\u53ea\u6709\u8001\u5e2b\u53ef\u4ee5\u5c0d\u5b78\u751f\u8a31\u9858\uff1f\u300d"
     ]
    },
    {
     "cell_type": "markdown",
     "metadata": {
      "slideshow": {
       "slide_type": "fragment"
      }
     },
     "source": [
      "# \u4f46\u662f\u300c\u5b78\u751f\u90fd\u7121\u6cd5\u5c0d\u8001\u5e2b\u8a31\u9858\uff1f\u300d"
     ]
    },
    {
     "cell_type": "markdown",
     "metadata": {
      "slideshow": {
       "slide_type": "subslide"
      }
     },
     "source": [
      "# \u8209\u53e6\u4e00\u500b\u8003\u8a66\u7684\u4f8b\u5b50 ... \u50cf\u6211\u5011\u7684\u300c\u5927\u6709\u70ba\u300d\u653f\u5e9c ... "
     ]
    },
    {
     "cell_type": "markdown",
     "metadata": {
      "slideshow": {
       "slide_type": "fragment"
      }
     },
     "source": [
      "# \u7db2\u9801\u8a2d\u8a08\u6280\u8853\u58eb\u7684\u8003\u8a66 ... \u9084\u5728\u8003\u300c\u5df2\u7d93\u88ab\u6dd8\u6c70\u7684 Flash\u300d\uff0c\u4ee5\u53ca\u300c\u5b8c\u5168\u6c92\u6709\u4eba\u7528\u7684 dreamwaver\u300d ... "
     ]
    },
    {
     "cell_type": "markdown",
     "metadata": {
      "slideshow": {
       "slide_type": "fragment"
      }
     },
     "source": [
      "# \u66fe\u7d93\u7576\u904e\u7db2\u7ad9\u5f8c\u7aef\u5de5\u7a0b\u5e2b\u7684\u6211 ... \u5be6\u5728\u975e\u5e38\u7684\u60f3\u8003\u8003\u653f\u5e9c XD ... (\u5176\u5be6\u4e5f\u7576\u904e\u300c\u5168\u7aef\u5de5\u7a0b\u5e2b\u300d)"
     ]
    },
    {
     "cell_type": "markdown",
     "metadata": {
      "slideshow": {
       "slide_type": "subslide"
      }
     },
     "source": [
      "# \u57fa\u672c\u4e0a\uff0c\u6211\u89ba\u5f97\u300c\u8003\u8a66\u5f15\u5c0e\u6559\u5b78\u300d\uff0c\u4e26\u6c92\u6709\u4ec0\u9ebc\u554f\u984c\uff1f"
     ]
    },
    {
     "cell_type": "markdown",
     "metadata": {
      "slideshow": {
       "slide_type": "fragment"
      }
     },
     "source": [
      "# \u771f\u6b63\u7684\u554f\u984c\u662f\uff1a\u600e\u9ebc\u8003\uff1f\u8ab0\u8003\u8ab0\uff1f"
     ]
    },
    {
     "cell_type": "markdown",
     "metadata": {
      "slideshow": {
       "slide_type": "subslide"
      }
     },
     "source": [
      "# \u8b1b\u5230\u9019\u88e1\uff0c\u4e0d\u77e5\u9053\u5927\u5bb6\u6703\u4e0d\u6703\u5f88\u597d\u5947 ... "
     ]
    },
    {
     "cell_type": "markdown",
     "metadata": {
      "slideshow": {
       "slide_type": "fragment"
      }
     },
     "source": [
      "# \u9019\u5bb6\u4f19\u5230\u5e95\u5f9e\u5c0f\u662f\u600e\u9ebc\u5b78\u6578\u5b78\u7684 ... \uff1f"
     ]
    },
    {
     "cell_type": "markdown",
     "metadata": {
      "slideshow": {
       "slide_type": "subslide"
      }
     },
     "source": [
      "# \u6211\u6700\u559c\u6b61\u7684\u5169\u53e5\u8a71 ... "
     ]
    },
    {
     "cell_type": "markdown",
     "metadata": {
      "slideshow": {
       "slide_type": "subslide"
      }
     },
     "source": [
      "# \"What I cannot create, I do not understand.\" --- by Richard Feynman"
     ]
    },
    {
     "cell_type": "markdown",
     "metadata": {
      "slideshow": {
       "slide_type": "subslide"
      }
     },
     "source": [
      "# \"I consider that I understand an equation when I can predict the properties of its solutions, without actually solving it.\" --- Paul Dirac"
     ]
    },
    {
     "cell_type": "markdown",
     "metadata": {
      "slideshow": {
       "slide_type": "subslide"
      }
     },
     "source": [
      "# \u7cdf\u7cd5 ... \u597d\u50cf\u804a\u4e0d\u5b8c\u4e86 ... \u56e7 ... "
     ]
    },
    {
     "cell_type": "markdown",
     "metadata": {
      "slideshow": {
       "slide_type": "fragment"
      }
     },
     "source": [
      "# \u73fe\u5728 ... \u5927\u5bb6\u77e5\u9053\u70ba\u4ec0\u9ebc\u6211\u6f14\u8b1b\u90fd\u4e0d\u81ea\u4ecb\u4e86\u5427 ... XD ... "
     ]
    },
    {
     "cell_type": "code",
     "collapsed": false,
     "input": [],
     "language": "python",
     "metadata": {},
     "outputs": []
    }
   ],
   "metadata": {}
  }
 ]
}