{
 "metadata": {
  "celltoolbar": "Slideshow",
  "name": "",
  "signature": "sha256:a887e9b25a57263ef549d6cf7b011b67a97c154ca96d8b93eb99b1f353f8dfd4"
 },
 "nbformat": 3,
 "nbformat_minor": 0,
 "worksheets": [
  {
   "cells": [
    {
     "cell_type": "markdown",
     "metadata": {
      "slideshow": {
       "slide_type": "slide"
      }
     },
     "source": [
      "# \u61c9\u7528\uff1f\u6578\u5b78\uff1f"
     ]
    },
    {
     "cell_type": "markdown",
     "metadata": {},
     "source": [
      "## Chia-Chi Chang"
     ]
    },
    {
     "cell_type": "markdown",
     "metadata": {
      "slideshow": {
       "slide_type": "subslide"
      }
     },
     "source": [
      "# \u5176\u5be6 ... \u4e00\u822c\u4f86\u8aaa\uff0c\u6211\u6f14\u8b1b\u90fd\u4e0d\u505a\u81ea\u6211\u4ecb\u7d39\u7684 ... "
     ]
    },
    {
     "cell_type": "markdown",
     "metadata": {
      "slideshow": {
       "slide_type": "fragment"
      }
     },
     "source": [
      "# \u4e0d\u904e\uff0c\u70ba\u4e86\u62c9\u8fd1\u53f0\u4e0a\u53f0\u4e0b\u7684\u8ddd\u96e2\uff0c\u4eca\u5929\u5c31\u4f86\u7834\u500b\u4f8b\u5427 ... "
     ]
    },
    {
     "cell_type": "markdown",
     "metadata": {
      "slideshow": {
       "slide_type": "subslide"
      }
     },
     "source": [
      "# \u6211\u662f ... \uff1f"
     ]
    },
    {
     "cell_type": "markdown",
     "metadata": {
      "slideshow": {
       "slide_type": "fragment"
      }
     },
     "source": [
      "# \u6210\u5927\u6578\u5b78 96 \u7d1a\u7562\u696d\u7684\u6821\u53cb ... "
     ]
    },
    {
     "cell_type": "markdown",
     "metadata": {
      "slideshow": {
       "slide_type": "fragment"
      }
     },
     "source": [
      "# \u5f9e\u570b\u4e2d\u958b\u59cb\uff0c\u5c31\u975e\u5e38\u559c\u6b61\u6578\u5b78 ... \u76f4\u5230\u73fe\u5728 ... "
     ]
    },
    {
     "cell_type": "markdown",
     "metadata": {
      "slideshow": {
       "slide_type": "fragment"
      }
     },
     "source": [
      "# \u975e\u5e38\u559c\u6b61\u63a2\u7d22\u6578\u5b78\u80cc\u5f8c\u7684\u300c\u76f4\u89ba\u300d ... "
     ]
    },
    {
     "cell_type": "markdown",
     "metadata": {
      "slideshow": {
       "slide_type": "subslide"
      }
     },
     "source": [
      "# \u4e3b\u8981\u5c08\u9577\uff1a\u5f88\u559c\u6b61\u554f\u5947\u602a\u7684\u554f\u984c ... XD ..."
     ]
    },
    {
     "cell_type": "markdown",
     "metadata": {
      "slideshow": {
       "slide_type": "subslide"
      }
     },
     "source": [
      "# \u6bd4\u65b9\u8aaa\uff0c\u6211\u570b\u4e2d\u6642\uff0c\u5c31\u66fe\u7d93\u601d\u8003\u904e ... "
     ]
    },
    {
     "cell_type": "markdown",
     "metadata": {
      "slideshow": {
       "slide_type": "fragment"
      }
     },
     "source": [
      "# \u80fd\u4e0d\u80fd\u7528\u807d\u89ba\uff1f\u53bb\u611f\u53d7\u4e26\u8a8d\u77e5\u9019\u500b\u4e16\u754c\u662f 3D \u7684\uff1f"
     ]
    },
    {
     "cell_type": "markdown",
     "metadata": {
      "slideshow": {
       "slide_type": "fragment"
      }
     },
     "source": [
      "# \u5728\u5750\u6709\u4eba\u807d\u904e Mark Kac \u4e26\u770b\u904e\u4ed6\u7684\u8ad6\u6587\u55ce\uff1f ... "
     ]
    },
    {
     "cell_type": "markdown",
     "metadata": {
      "slideshow": {
       "slide_type": "fragment"
      }
     },
     "source": [
      "# \u63a8\u85a6\u5927\u5bb6\u53bb\u770b\u300aEnigmas of Chance\u300b ... "
     ]
    },
    {
     "cell_type": "markdown",
     "metadata": {
      "slideshow": {
       "slide_type": "subslide"
      }
     },
     "source": [
      "# \u4e5f\u8a31\u525b\u525b\u90a3\u500b\u554f\u984c\u9084\u4e0d\u5920\u5947\u602a ... "
     ]
    },
    {
     "cell_type": "markdown",
     "metadata": {
      "slideshow": {
       "slide_type": "fragment"
      }
     },
     "source": [
      "# \u6211\u570b\u4e2d\u6642 ... \u4e5f\u5c64\u6df1\u6df1\u7684\u601d\u8003\u904e\u4e00\u500b\u6559\u80b2\u554f\u984c ... \uff1f"
     ]
    },
    {
     "cell_type": "markdown",
     "metadata": {
      "slideshow": {
       "slide_type": "fragment"
      }
     },
     "source": [
      "# \u70ba\u4ec0\u9ebc\u300c\u53ea\u6709\u8001\u5e2b\u53ef\u4ee5\u8003\u5b78\u751f\uff1f\u300d\uff0c\u800c\u300c\u5b78\u751f\u4e0d\u80fd\u8003\u8001\u5e2b\uff1f\u300d"
     ]
    },
    {
     "cell_type": "markdown",
     "metadata": {
      "slideshow": {
       "slide_type": "subslide"
      }
     },
     "source": [
      "# \u5176\u5be6\uff0c\u6211\u5c0f\u6642\u5019\u975e\u5e38\u7684\u60f3\u7576\u6578\u5b78\u5bb6\uff0c\u6216\u662f\u7576\u6578\u5b78\u7cfb\u7684\u6559\u6388 ... "
     ]
    },
    {
     "cell_type": "markdown",
     "metadata": {
      "slideshow": {
       "slide_type": "fragment"
      }
     },
     "source": [
      "# \u7576\u6642\u6211\u5c31\u5728\u60f3 ... \u5982\u679c\u6709\u4e00\u5929\u6211\u7576\u6559\u6388\u6642\uff0c\u6211\u4e00\u5b9a\u8981\u958b\u5275\u5b78\u751f\u8003\u8001\u5e2b\u7684\u8a55\u5206\u5236\u5ea6 ... "
     ]
    },
    {
     "cell_type": "markdown",
     "metadata": {
      "slideshow": {
       "slide_type": "subslide"
      }
     },
     "source": [
      "# \u9019\u4e26\u4e0d\u662f\u9f13\u52f5\u5b78\u751f\u9769\u547d\uff0c\u800c\u662f\u9f13\u52f5\u7368\u7acb\u601d\u8003\uff0c\u4e26\u4e14\u8b93\u5e2b\u751f\u53ef\u4ee5\u6df1\u5ea6\u6e9d\u901a ... "
     ]
    },
    {
     "cell_type": "markdown",
     "metadata": {
      "slideshow": {
       "slide_type": "fragment"
      }
     },
     "source": [
      "# \u8001\u5e2b\u53ef\u4ee5\u900f\u7531\u8003\u5377\uff0c\u544a\u8a34\u5b78\u751f\uff0c\u300c\u4ed6\u5e0c\u671b\u5b78\u751f\u80fd\u300e\u5b78\u6703\u300f\u4ec0\u9ebc\uff1f\u300d"
     ]
    },
    {
     "cell_type": "markdown",
     "metadata": {
      "slideshow": {
       "slide_type": "fragment"
      }
     },
     "source": [
      "# \u5b78\u751f\u53ef\u4ee5\u900f\u7531\u8003\u5377\uff0c\u544a\u8a34\u8001\u5e2b\uff0c\u300c\u4ed6\u5e0c\u671b\u5728\u9019\u5802\u8ab2\u80fd\u300e\u5b78\u5230\u300f\u4ec0\u9ebc\uff1f\u300d"
     ]
    },
    {
     "cell_type": "markdown",
     "metadata": {
      "slideshow": {
       "slide_type": "subslide"
      }
     },
     "source": [
      "# \u70ba\u4ec0\u9ebc\u300c\u53ea\u6709\u8001\u5e2b\u53ef\u4ee5\u5c0d\u5b78\u751f\u8a31\u9858\uff1f\u300d"
     ]
    },
    {
     "cell_type": "markdown",
     "metadata": {
      "slideshow": {
       "slide_type": "fragment"
      }
     },
     "source": [
      "# \u4f46\u662f\u300c\u5b78\u751f\u90fd\u7121\u6cd5\u5c0d\u8001\u5e2b\u8a31\u9858\uff1f\u300d"
     ]
    },
    {
     "cell_type": "markdown",
     "metadata": {
      "slideshow": {
       "slide_type": "subslide"
      }
     },
     "source": [
      "# \u8209\u53e6\u4e00\u500b\u8003\u8a66\u7684\u4f8b\u5b50 ... \u50cf\u6211\u5011\u7684\u300c\u5927\u6709\u70ba\u300d\u653f\u5e9c ... "
     ]
    },
    {
     "cell_type": "markdown",
     "metadata": {
      "slideshow": {
       "slide_type": "fragment"
      }
     },
     "source": [
      "# \u7db2\u9801\u8a2d\u8a08\u6280\u8853\u58eb\u7684\u8003\u8a66 ... \u9084\u5728\u8003\u300c\u5df2\u7d93\u88ab\u6dd8\u6c70\u7684 Flash\u300d\uff0c\u4ee5\u53ca\u300c\u5b8c\u5168\u6c92\u6709\u4eba\u7528\u7684 dreamwaver\u300d ... "
     ]
    },
    {
     "cell_type": "markdown",
     "metadata": {
      "slideshow": {
       "slide_type": "fragment"
      }
     },
     "source": [
      "# \u66fe\u7d93\u7576\u904e\u7db2\u7ad9\u5f8c\u7aef\u5de5\u7a0b\u5e2b\u7684\u6211 ... \u5be6\u5728\u975e\u5e38\u7684\u60f3\u8003\u8003\u653f\u5e9c XD ... (\u5176\u5be6\u4e5f\u7576\u904e\u300c\u5168\u7aef\u5de5\u7a0b\u5e2b\u300d)"
     ]
    },
    {
     "cell_type": "markdown",
     "metadata": {
      "slideshow": {
       "slide_type": "subslide"
      }
     },
     "source": [
      "# \u57fa\u672c\u4e0a\uff0c\u6211\u89ba\u5f97\u300c\u8003\u8a66\u5f15\u5c0e\u6559\u5b78\u300d\uff0c\u4e26\u6c92\u6709\u4ec0\u9ebc\u554f\u984c\uff1f"
     ]
    },
    {
     "cell_type": "markdown",
     "metadata": {
      "slideshow": {
       "slide_type": "fragment"
      }
     },
     "source": [
      "# \u771f\u6b63\u7684\u554f\u984c\u662f\uff1a\u600e\u9ebc\u8003\uff1f\u8ab0\u8003\u8ab0\uff1f"
     ]
    },
    {
     "cell_type": "markdown",
     "metadata": {
      "slideshow": {
       "slide_type": "subslide"
      }
     },
     "source": [
      "# \u8b1b\u5230\u9019\u88e1\uff0c\u4e0d\u77e5\u9053\u5927\u5bb6\u6703\u4e0d\u6703\u5f88\u597d\u5947 ... "
     ]
    },
    {
     "cell_type": "markdown",
     "metadata": {
      "slideshow": {
       "slide_type": "fragment"
      }
     },
     "source": [
      "# \u9019\u5bb6\u4f19\u5230\u5e95\u5f9e\u5c0f\u662f\u600e\u9ebc\u5b78\u6578\u5b78\u7684 ... \uff1f"
     ]
    },
    {
     "cell_type": "markdown",
     "metadata": {
      "slideshow": {
       "slide_type": "subslide"
      }
     },
     "source": [
      "# \u6211\u6700\u559c\u6b61\u7684\u5169\u53e5\u8a71 ... "
     ]
    },
    {
     "cell_type": "markdown",
     "metadata": {
      "slideshow": {
       "slide_type": "subslide"
      }
     },
     "source": [
      "# \"What I cannot create, I do not understand.\" --- by Richard Feynman"
     ]
    },
    {
     "cell_type": "markdown",
     "metadata": {
      "slideshow": {
       "slide_type": "subslide"
      }
     },
     "source": [
      "# \"I consider that I understand an equation when I can predict the properties of its solutions, without actually solving it.\" --- Paul Dirac"
     ]
    },
    {
     "cell_type": "markdown",
     "metadata": {
      "slideshow": {
       "slide_type": "subslide"
      }
     },
     "source": [
      "# \u7cdf\u7cd5 ... \u597d\u50cf\u804a\u4e0d\u5b8c\u4e86 ... \u56e7 ... "
     ]
    },
    {
     "cell_type": "markdown",
     "metadata": {
      "slideshow": {
       "slide_type": "fragment"
      }
     },
     "source": [
      "# \u73fe\u5728 ... \u5927\u5bb6\u77e5\u9053\u70ba\u4ec0\u9ebc\u6211\u6f14\u8b1b\u90fd\u4e0d\u81ea\u4ecb\u4e86\u5427 ... XD ... "
     ]
    },
    {
     "cell_type": "markdown",
     "metadata": {
      "slideshow": {
       "slide_type": "fragment"
      }
     },
     "source": [
      "# \u807d\u8aaa\u4eca\u5929\u6f14\u8b1b\u5f8c\u9762\u6709\u5b89\u6392\u9592\u804a\u6642\u6bb5 ... (\u5230\u6642\u7e7c\u7e8c ...)"
     ]
    },
    {
     "cell_type": "markdown",
     "metadata": {
      "slideshow": {
       "slide_type": "slide"
      }
     },
     "source": [
      "# \u56de\u5230\u4eca\u5929\u7684\u4e3b\u984c ..."
     ]
    },
    {
     "cell_type": "markdown",
     "metadata": {
      "slideshow": {
       "slide_type": "fragment"
      }
     },
     "source": [
      "# \u61c9\u7528\uff1f\u6578\u5b78\uff1f"
     ]
    },
    {
     "cell_type": "markdown",
     "metadata": {
      "slideshow": {
       "slide_type": "fragment"
      }
     },
     "source": [
      "# \u91cd\u9ede\u662f\u300c\u61c9\u7528\u300d\uff1f\u9084\u662f\u300c\u6578\u5b78\u300d\uff1f"
     ]
    },
    {
     "cell_type": "markdown",
     "metadata": {
      "slideshow": {
       "slide_type": "subslide"
      }
     },
     "source": [
      "# \u6bcf\u6b21\u807d\u5230\u6709\u4eba\u5ba3\u7a31\u4ed6\u662f\u4f5c\u300c\u61c9\u7528\u6578\u5b78\u300d\u7684\uff0c\u6211\u90fd\u6703\u5f88\u60f3\u554f ... "
     ]
    },
    {
     "cell_type": "markdown",
     "metadata": {
      "slideshow": {
       "slide_type": "fragment"
      }
     },
     "source": [
      "# \u4f60\u8b1b\u7684\u300c\u61c9\u7528\u6578\u5b78\u300d\u771f\u7684\u300c\u6709\u7528\u300d\u55ce\uff1f"
     ]
    },
    {
     "cell_type": "markdown",
     "metadata": {
      "slideshow": {
       "slide_type": "fragment"
      }
     },
     "source": [
      "# \u4f60\u8b1b\u7684\u300c\u61c9\u7528\u6578\u5b78\u300d\u771f\u7684\u300c\u80fd\u7528\u300d\u55ce\uff1f"
     ]
    },
    {
     "cell_type": "markdown",
     "metadata": {
      "slideshow": {
       "slide_type": "subslide"
      }
     },
     "source": [
      "# \u6211\u5011\u4f86\u7530\u91ce\u8abf\u67e5\u4e00\u4e0b ... "
     ]
    },
    {
     "cell_type": "markdown",
     "metadata": {
      "slideshow": {
       "slide_type": "fragment"
      }
     },
     "source": [
      "# \u5927\u5bb6\u89ba\u5f97\u300c\u4ec0\u9ebc\u662f\u61c9\u7528\u6578\u5b78\uff1f\u300d"
     ]
    },
    {
     "cell_type": "markdown",
     "metadata": {
      "slideshow": {
       "slide_type": "fragment"
      }
     },
     "source": [
      "# \u4e26\u8acb\u56de\u7b54\uff0c\u4f60\u89ba\u5f97\u7684\u300c\u61c9\u7528\u6578\u5b78\u300d\u53ef\u4ee5\u7528\u5728\u54ea\u88e1\uff1f\u89e3\u6c7a\u4ec0\u9ebc\u554f\u984c\uff1f"
     ]
    },
    {
     "cell_type": "markdown",
     "metadata": {
      "slideshow": {
       "slide_type": "subslide"
      }
     },
     "source": [
      "# \u5c31\u6211\u7684\u89c0\u5bdf\uff0c\u300c\u61c9\u7528\u6578\u5b78\u300d\u597d\u50cf\u53ef\u4ee5\u89e3\u6c7a\u5e7e\u7a2e\u554f\u984c ... "
     ]
    },
    {
     "cell_type": "markdown",
     "metadata": {
      "slideshow": {
       "slide_type": "fragment"
      }
     },
     "source": [
      "# \u89e3\u6c7a\u8003\u5377\u4e0a\u7684\u554f\u984c\uff1f"
     ]
    },
    {
     "cell_type": "markdown",
     "metadata": {
      "slideshow": {
       "slide_type": "fragment"
      }
     },
     "source": [
      "# \u89e3\u6c7a\u767c paper \u5347\u7b49\u7684\u554f\u984c\uff1f"
     ]
    },
    {
     "cell_type": "markdown",
     "metadata": {
      "slideshow": {
       "slide_type": "fragment"
      }
     },
     "source": [
      "# \u89e3\u6c7a\u771f\u5be6\u7684\u751f\u6d3b\u554f\u984c\uff1f"
     ]
    },
    {
     "cell_type": "markdown",
     "metadata": {
      "slideshow": {
       "slide_type": "subslide"
      }
     },
     "source": [
      "# \u800c\u6211\u5fc3\u4e2d\u7684\u8a8d\u77e5\u662f\uff1a"
     ]
    },
    {
     "cell_type": "markdown",
     "metadata": {
      "slideshow": {
       "slide_type": "fragment"
      }
     },
     "source": [
      "# \u300c\u61c9\u7528\u300d\u6578\u5b78 V.S. \u61c9\u7528\u300c\u6578\u5b78\u300d"
     ]
    },
    {
     "cell_type": "markdown",
     "metadata": {
      "slideshow": {
       "slide_type": "fragment"
      }
     },
     "source": [
      "# (\u662f\u5169\u7a2e\u5b8c\u5168\u4e0d\u4e00\u6a23\u7684\u6771\u897f)"
     ]
    },
    {
     "cell_type": "markdown",
     "metadata": {
      "slideshow": {
       "slide_type": "subslide"
      }
     },
     "source": [
      "#\u300c\u61c9\u7528\u300d\u6578\u5b78\uff1a"
     ]
    },
    {
     "cell_type": "markdown",
     "metadata": {
      "slideshow": {
       "slide_type": "fragment"
      }
     },
     "source": [
      "# \u662f\u4e00\u7a2e\u975e\u5e38\u91cd\u8996\u300c\u76f4\u89ba\u300d\uff0c"
     ]
    },
    {
     "cell_type": "markdown",
     "metadata": {
      "slideshow": {
       "slide_type": "fragment"
      }
     },
     "source": [
      "# \u5c0d\u4e8b\u7269\u7684\u300c\u6df1\u523b\u89c0\u5bdf\u300d\uff0c"
     ]
    },
    {
     "cell_type": "markdown",
     "metadata": {
      "slideshow": {
       "slide_type": "fragment"
      }
     },
     "source": [
      "# \u9032\u800c\u6df1\u5165\u601d\u8003\u800c\u7522\u751f\u7684\u7522\u7269 ... "
     ]
    },
    {
     "cell_type": "markdown",
     "metadata": {
      "slideshow": {
       "slide_type": "subslide"
      }
     },
     "source": [
      "# \u4ed4\u7d30\u56de\u9867\u6b77\u53f2\uff0c\u4f60\u6703\u767c\u73fe ... "
     ]
    },
    {
     "cell_type": "markdown",
     "metadata": {
      "slideshow": {
       "slide_type": "fragment"
      }
     },
     "source": [
      "# \u5f88\u591a\u65b0\u7684\u6578\u5b78\u90fd\u662f\u4f5c\u300c\u61c9\u7528\u300d\u7684\u4eba\u5148\u767c\u660e\u7684\uff0c\u4ed6\u5011\u751a\u81f3\u4e0d\u662f\u300c\u6578\u5b78\u300d\u5bb6 ... "
     ]
    },
    {
     "cell_type": "markdown",
     "metadata": {
      "slideshow": {
       "slide_type": "fragment"
      }
     },
     "source": [
      "# \u7136\u800c\uff0c\u5f88\u591a\u6578\u5b78\u5bb6\u5f88\u611b\u5ba3\u7a31 ...... \uff1f\u95dc\u65bc\u9019\u4e9b\u89c0\u9ede\uff0c\u6211\u975e\u5e38\u4e0d\u4ee5\u70ba\u7136 ... "
     ]
    },
    {
     "cell_type": "markdown",
     "metadata": {
      "slideshow": {
       "slide_type": "subslide"
      }
     },
     "source": [
      "# \u81f3\u65bc\u61c9\u7528\u300c\u6578\u5b78\u300d\u561b ... "
     ]
    },
    {
     "cell_type": "markdown",
     "metadata": {
      "slideshow": {
       "slide_type": "fragment"
      }
     },
     "source": [
      "# \u56e0\u70ba\u6210\u5927\u662f\u61c9\u7528\u300c\u6578\u5b78\u300d\u6240 ... "
     ]
    },
    {
     "cell_type": "markdown",
     "metadata": {
      "slideshow": {
       "slide_type": "fragment"
      }
     },
     "source": [
      "# \u76f8\u4fe1\u5927\u5bb6\u5e73\u5e38\u4e0a\u8ab2 ... \u4e00\u5b9a\u90fd\u6709\u975e\u5e38\u591a\u300c\u6df1\u523b\u300d\u7684\u611f\u53d7\u4e86 XD ... "
     ]
    },
    {
     "cell_type": "markdown",
     "metadata": {
      "slideshow": {
       "slide_type": "subslide"
      }
     },
     "source": [
      "# \u800c\u4e14\u5728\u5750\u7684\u8001\u5e2b\u4e00\u5b9a\u90fd\u80fd\u89e3\u91cb\u7684\u6bd4\u6211\u597d ... "
     ]
    },
    {
     "cell_type": "markdown",
     "metadata": {
      "slideshow": {
       "slide_type": "fragment"
      }
     },
     "source": [
      "# \u5927\u5bb6\u7b49\u7b49\u4e0b\u8ab2\u53ef\u4ee5\u53bb\u554f\u554f\u4ed6\u5011 ( ... \u6316\u5751 ... XD )"
     ]
    },
    {
     "cell_type": "markdown",
     "metadata": {
      "slideshow": {
       "slide_type": "slide"
      }
     },
     "source": [
      "# \u63a5\u4e0b\u4f86\uff0c\u5c31\u8b93\u6211\u5011\u4f86\u8ac7\u8ac7 ... \u300c\u61c9\u7528\u300d\u6578\u5b78\u7684\u300c\u76f4\u89ba\u300d\u5427 ... "
     ]
    },
    {
     "cell_type": "markdown",
     "metadata": {
      "slideshow": {
       "slide_type": "subslide"
      }
     },
     "source": [
      "# \u9996\u5148\uff0c\u6211\u5011\u4f86\u56de\u9867\u4e00\u4e0b ... \u300c\u6e1b\u6cd5\u300d\u7684\u76f4\u89ba\uff1f"
     ]
    },
    {
     "cell_type": "markdown",
     "metadata": {
      "slideshow": {
       "slide_type": "subslide"
      }
     },
     "source": [
      "# \u5f9e\u570b\u5c0f\u958b\u59cb\uff0c\u6211\u5011\u5c31\u662f\u9019\u6a23\u5b78\u7684 ... "
     ]
    },
    {
     "cell_type": "markdown",
     "metadata": {
      "slideshow": {
       "slide_type": "fragment"
      }
     },
     "source": [
      "# \u88ab\u526a\u6a39 - \u526a\u6a39 = ... \uff1f"
     ]
    },
    {
     "cell_type": "markdown",
     "metadata": {
      "slideshow": {
       "slide_type": "fragment"
      }
     },
     "source": [
      "# = \u88ab\uff1f .... XD"
     ]
    },
    {
     "cell_type": "markdown",
     "metadata": {
      "slideshow": {
       "slide_type": "fragment"
      }
     },
     "source": [
      "## ( ... Text Mining ... )"
     ]
    },
    {
     "cell_type": "markdown",
     "metadata": {
      "slideshow": {
       "slide_type": "fragment"
      }
     },
     "source": [
      "# = \u5dee ... !!! "
     ]
    },
    {
     "cell_type": "markdown",
     "metadata": {
      "slideshow": {
       "slide_type": "subslide"
      }
     },
     "source": [
      "# \u5728\u7530\u91ce\u8abf\u67e5\u4e00\u4e0b ... "
     ]
    },
    {
     "cell_type": "markdown",
     "metadata": {
      "slideshow": {
       "slide_type": "fragment"
      }
     },
     "source": [
      "# \u4f60\u89ba\u5f97 ... \u4ec0\u9ebc\u662f\u300c\u6e1b\u6cd5\u300d\uff1f\u5b83\u53ef\u4ee5\u7528\u4f86\u4f5c\u4ec0\u9ebc\uff1f"
     ]
    },
    {
     "cell_type": "markdown",
     "metadata": {
      "slideshow": {
       "slide_type": "subslide"
      }
     },
     "source": [
      "# \u8b93\u6211\u5011\u5148\u4f86\u4e00\u8d77\u4f86\u770b\u500b\u6709\u8da3\u7684\u4f8b\u5b50\u5427 ... "
     ]
    },
    {
     "cell_type": "markdown",
     "metadata": {
      "slideshow": {
       "slide_type": "fragment"
      }
     },
     "source": [
      "# \u6211\u5011\u90fd\u77e5\u9053 ... 103 - 100 = 3 = 6 - 3"
     ]
    },
    {
     "cell_type": "markdown",
     "metadata": {
      "slideshow": {
       "slide_type": "fragment"
      }
     },
     "source": [
      "# \u4f46 ... \u6478\u8457\u4f60\u7684\u826f\u5fc3\u8aaa ... "
     ]
    },
    {
     "cell_type": "markdown",
     "metadata": {
      "slideshow": {
       "slide_type": "fragment"
      }
     },
     "source": [
      "# \u4f60\u771f\u7684\u89ba\u5f97 ... 103 - 100 = 6 - 3 \u55ce\uff1f"
     ]
    },
    {
     "cell_type": "markdown",
     "metadata": {
      "slideshow": {
       "slide_type": "subslide"
      }
     },
     "source": [
      "# \u63db\u500b\u5834\u666f ... "
     ]
    },
    {
     "cell_type": "markdown",
     "metadata": {
      "slideshow": {
       "slide_type": "fragment"
      }
     },
     "source": [
      "# 103 \u5143 - 100 \u5143 = 6 \u5143 - 3 \u5143 \uff1f\uff1f"
     ]
    },
    {
     "cell_type": "markdown",
     "metadata": {
      "slideshow": {
       "slide_type": "fragment"
      }
     },
     "source": [
      "# 103 \u5143\u7684\u80a1\u7968 - 100 \u5143\u7684\u80a1\u7968 = 6 \u5143\u7684\u80a1\u7968 - 3 \u5143\u7684\u80a1\u7968 \uff1f\uff1f"
     ]
    },
    {
     "cell_type": "markdown",
     "metadata": {
      "slideshow": {
       "slide_type": "fragment"
      }
     },
     "source": [
      "## ( \u8acb\u6478\u8457\u4f60\u7684\u826f\u5fc3\u56de\u7b54 ... XD ... )"
     ]
    },
    {
     "cell_type": "markdown",
     "metadata": {
      "slideshow": {
       "slide_type": "subslide"
      }
     },
     "source": [
      "# \u7fd2\u984c\uff1a"
     ]
    },
    {
     "cell_type": "markdown",
     "metadata": {
      "slideshow": {
       "slide_type": "fragment"
      }
     },
     "source": [
      "# \u6709\u6c92\u6709\u4ec0\u9ebc\u6642\u5019\uff0c\u6703\u51fa\u73fe 103 - 100 > 6 - 3\uff1f"
     ]
    },
    {
     "cell_type": "markdown",
     "metadata": {
      "slideshow": {
       "slide_type": "fragment"
      }
     },
     "source": [
      "# \u6709\u6c92\u6709\u4ec0\u9ebc\u6642\u5019\uff0c\u6703\u51fa\u73fe 103 - 100 < 6 - 3\uff1f"
     ]
    },
    {
     "cell_type": "markdown",
     "metadata": {
      "slideshow": {
       "slide_type": "subslide"
      }
     },
     "source": [
      "# \u8b93\u6211\u5011\u4f86 ... \u770b\u770b\u6a01\u8173\u5011\u7684\u7b54\u6848 ... "
     ]
    },
    {
     "cell_type": "markdown",
     "metadata": {
      "slideshow": {
       "slide_type": "subslide"
      }
     },
     "source": [
      "## [\u6a01\u8173 1] 103 - 100 < 6 - 3 ... \u56e0\u70ba\u300c\u6bd4\u7387\u300d ..."
     ]
    },
    {
     "cell_type": "markdown",
     "metadata": {
      "slideshow": {
       "slide_type": "subslide"
      }
     },
     "source": [
      "## [\u6a01\u8173 2] \u80a1\u7968\u7684\u8a71\u6211\u731c103-100>6-3\n",
      "## \u628a\u9019\u500b\u6bd4\u8f03\u6cd5\u5b9a\u7fa9\u6210\u5c0d\u65bc\u6295\u8cc7\u80a1\u7968\u627f\u64d4\u98a8\u96aa\u7684\u9ad8\u4f4e\n",
      "## \u5148\u5f9e100\u8ddf3\u5143\u6bd4,100\u5143\u5047\u5982\u90fd\u8667\u640d\u6703\u5927\u65bc\u8667\u640d3\u5143,\u56e0\u6b64\u5c0d\u65bc\u6295\u8cc7\u4eba\u4f86\u8aaa\u6295\u8cc7100\u6703\u6bd43\u6240\u627f\u64d4\u7684\u98a8\u96aa\u9ad8,\u56e0\u6b64\u6703\u8b39\u614e\u7684\u6295\u8cc7,\u5f9e100\u589e\u52a03\u5c31\u8d8a\u662f\u8b39\u614e,\u76f8\u5c0d\u5f9e3\u5143\u52306\u5143\u5c31\u6c92\u627f\u53d7\u6bd4100\u5230103\u4f86\u5f97\u9ad8\u7684\u98a8\u96aa,\u6240\u4ee5\u9019\u6a23\u7684\u5b9a\u6cd5103-100>6-3\n"
     ]
    },
    {
     "cell_type": "markdown",
     "metadata": {
      "slideshow": {
       "slide_type": "subslide"
      }
     },
     "source": [
      "## [\u6a01\u8173 3] \u80a1\u7968\u7684\u8a71\u6211\u731c103-100>6-3\n",
      "## \u56e0\u70ba\u6709\u4fee\u5916\u7cfb\u7d93\u6fdf\u6240\u4ee5\u6211\u60f3\u5230\u7684\u662f\u7d93\u6fdf\u5831\u916c\u905e\u6e1b\n",
      "## \u4ee5\u96c7\u4eba\u4f86\u8aaa\uff0c\u56fa\u5b9a\u73fe\u6709\u8cc7\u672c\u91cf\n",
      "## \u96c76\u500b\u4eba\u7684\u7e3d\u7522\u91cf-\u96c73\u500b\u4eba\u7684\u7e3d\u7522\u91cf\n",
      "## \u6703\u5927\u9918\n",
      "## \u96c7103\u500b\u4eba\u7684\u7e3d\u7522\u91cf-\u96c7100\u500b\u4eba\u7684\u7e3d\u7522\u91cf\n",
      "## \u6069..\u5c31\u9019\u6a23\uff0c\u4f46\u6211\u4e0d\u77e5\u9053\u6211\u6709\u6c92\u6709\u8aa4\u6703\u984c\u76ee\u610f\u601d\n",
      "## \u6211\u4e5f\u53ef\u4ee5\u8a02\u4e00\u500b\u53ea\u8ddf\u9867\u4eba\u6578\u91cf\u6709\u95dc\u7684\u751f\u7522\u51fd\u6578Y(N)\n",
      "## \u90a3\u9ebc\u6211\u525b\u525b\u7684\u4f8b\u5b50\u5c31\u8b8a\u6210\n",
      "## Y(6)-Y(3)>Y(103)-Y(100)\n",
      "\n"
     ]
    },
    {
     "cell_type": "markdown",
     "metadata": {
      "slideshow": {
       "slide_type": "subslide"
      }
     },
     "source": [
      "# \u770b\u5b8c\u7b54\u6848\u4e4b\u5f8c ... \u6211\u6df1\u6df1\u7684\u89ba\u5f97 ... "
     ]
    },
    {
     "cell_type": "markdown",
     "metadata": {},
     "source": [
      "# \u9019\u7fa4\u5b78\u5f1f\u59b9\u771f\u7684\u592a\u512a\u79c0\u4e86 ... !!! "
     ]
    },
    {
     "cell_type": "markdown",
     "metadata": {
      "slideshow": {
       "slide_type": "subslide"
      }
     },
     "source": [
      "# \u5176\u5be6\uff0c\u9019\u984c\u4e26\u6c92\u6709\u6a19\u6e96\u7b54\u6848 ... \u7d14\u7cb9\u8b93\u5927\u5bb6\u611f\u53d7\u300c\u76f4\u89ba\u300d..."
     ]
    },
    {
     "cell_type": "markdown",
     "metadata": {},
     "source": [
      "## (\u5c0f\u5c0f\u8072\u554f ... \u554f\u4ec0\u9ebc\u90fd\u5230\u4e86\u5927\u5b78\uff0c\u8003\u8a66\u9084\u8981\u6709\u6a19\u6e96\u7b54\u6848\uff1f ... )"
     ]
    },
    {
     "cell_type": "markdown",
     "metadata": {
      "slideshow": {
       "slide_type": "subslide"
      }
     },
     "source": [
      "# \u5f9e\u7bc4\u4f8b\u4e2d\uff0c\u6211\u5011\u53ef\u4ee5\u767c\u73fe ... "
     ]
    },
    {
     "cell_type": "markdown",
     "metadata": {
      "slideshow": {
       "slide_type": "fragment"
      }
     },
     "source": [
      "# \u4f7f\u300c\u7528\u6578\u5b78\u300d\u6642\uff0c\u5176\u5be6\uff0c\u5e38\u5e38\u9700\u8981\u300c\u4e1f\u6389\u5f88\u591a\u6771\u897f ... \u300d"
     ]
    },
    {
     "cell_type": "markdown",
     "metadata": {
      "slideshow": {
       "slide_type": "fragment"
      }
     },
     "source": [
      "# \u9019\u4e9b\u4e1f\u6389\u7684\u6771\u897f\uff0c\u5c07\u6210\u70ba\u300c\u6578\u5b78\u7684\u76f2\u9ede ... \u300d"
     ]
    },
    {
     "cell_type": "markdown",
     "metadata": {
      "slideshow": {
       "slide_type": "fragment"
      }
     },
     "source": [
      "# \u9664\u975e\u8df3\u51fa\u4f86\u770b\uff0c\u5426\u5247\u975e\u5e38\u96e3\u300c\u628a\u4e1f\u6389\u7684\u6771\u897f\u9577\u56de\u4f86 ... \u300d"
     ]
    },
    {
     "cell_type": "markdown",
     "metadata": {
      "slideshow": {
       "slide_type": "subslide"
      }
     },
     "source": [
      "# \u5c0d\u4f5c\u300c\u61c9\u7528\u300d\u7684\u4eba\u4f86\u8aaa\uff0c\u4e0d\u8df3\u51fa\u4f86\u5c31\u6c92\u51fa\u8def ... "
     ]
    },
    {
     "cell_type": "markdown",
     "metadata": {
      "slideshow": {
       "slide_type": "fragment"
      }
     },
     "source": [
      "# \u4f60\u4e0d\u80fd\u671f\u5f85\u81ea\u5df1\u5728\u4e00\u500b\u4e0d\u5b58\u5728\u89e3\u7b54\u7684\u7a7a\u9593\u4e2d\uff0c\u786c\u627e\u5230\u89e3\u7b54 ... "
     ]
    },
    {
     "cell_type": "markdown",
     "metadata": {
      "slideshow": {
       "slide_type": "fragment"
      }
     },
     "source": [
      "## (\u6700\u5e38\u770b\u5230\u7684\u662f\uff0c\u89e3\u7b54\u5728\u5beb\u4e0b\u5b9a\u7fa9\u7684\u6642\u5019\uff0c\u5c31\u5df2\u7d93\u88ab\u780d\u6389\u4e86 ... \u56e7 ... )"
     ]
    },
    {
     "cell_type": "markdown",
     "metadata": {
      "slideshow": {
       "slide_type": "fragment"
      }
     },
     "source": [
      "# \u90a3\u53ea\u662f\u6d6a\u8cbb\u751f\u547d\u800c\u5df2 ... "
     ]
    },
    {
     "cell_type": "markdown",
     "metadata": {
      "slideshow": {
       "slide_type": "slide"
      }
     },
     "source": [
      "# \u56de\u5230\u300c\u6e1b\u6cd5\u7684\u76f4\u89ba\u300d ... "
     ]
    },
    {
     "cell_type": "markdown",
     "metadata": {
      "slideshow": {
       "slide_type": "subslide"
      }
     },
     "source": [
      "# \u300c\u5dee\u300d\u5176\u5be6\u662f\u4e00\u7a2e\u975e\u5e38\u91cd\u8981\u7684\u300c\u4e0d\u8b8a\u91cf\u300d ... "
     ]
    },
    {
     "cell_type": "markdown",
     "metadata": {
      "slideshow": {
       "slide_type": "fragment"
      }
     },
     "source": [
      "# \u6bd4\u65b9\u8aaa\uff0c\u300c\u9ede\u300d-\u300c\u9ede\u300d=\u300c\u5411\u91cf\u300d ... "
     ]
    },
    {
     "cell_type": "markdown",
     "metadata": {
      "slideshow": {
       "slide_type": "fragment"
      }
     },
     "source": [
      "# \u6709\u6c92\u6709\u767c\u73fe ... \u5176\u5be6 Vector Space \u662f\u9019\u6a23\u4f86\u7684 !!!"
     ]
    },
    {
     "cell_type": "markdown",
     "metadata": {
      "slideshow": {
       "slide_type": "fragment"
      }
     },
     "source": [
      "## ( ... \u5982\u679c\u5927\u5bb6\u60f3\u5b78\u66f4\u591a\u95dc\u65bc\u300c\u4e0d\u8b8a\u91cf\u7684\u76f4\u89ba\u300d\u7684\u8a71\uff0c\u5efa\u8b70\u53ef\u4ee5\u627e\u4e2d\u7814\u9662\u7684\u8b1d\u6625\u5fe0\u8001\u5e2b ... )"
     ]
    },
    {
     "cell_type": "markdown",
     "metadata": {
      "slideshow": {
       "slide_type": "slide"
      }
     },
     "source": [
      "# \u525b\u597d[\u6a01\u8173 1] \u6709\u63d0\u51fa\u300c\u8b8a\u5316\u7387\u300d\u7684\u554f\u984c ... "
     ]
    },
    {
     "cell_type": "markdown",
     "metadata": {
      "slideshow": {
       "slide_type": "fragment"
      }
     },
     "source": [
      "# $$ \\frac{103 - 100}{100} = 3\uff05 < 200\uff05 = \\frac{6 - 3}{3} $$"
     ]
    },
    {
     "cell_type": "markdown",
     "metadata": {
      "slideshow": {
       "slide_type": "fragment"
      }
     },
     "source": [
      "# \u5c31\u9806\u4fbf\u9ede\u51fa\u53e6\u4e00\u500b\u554f\u984c\u597d\u4e86 ... "
     ]
    },
    {
     "cell_type": "markdown",
     "metadata": {
      "slideshow": {
       "slide_type": "fragment"
      }
     },
     "source": [
      "# +50% \u548c -50% \u4f3c\u4e4e\u662f\u4ee3\u8868\u65b9\u5411\u76f8\u53cd\uff0c\u300c\u5e45\u5ea6\u76f8\u540c\u300d\u7684\u8b8a\u5316\u7387\uff1f"
     ]
    },
    {
     "cell_type": "markdown",
     "metadata": {
      "slideshow": {
       "slide_type": "subslide"
      }
     },
     "source": [
      "# \u4ed6\u5011\u7684\u300c\u5e45\u5ea6\u300d\uff0c\u771f\u7684\u76f8\u540c\u55ce\uff1f"
     ]
    },
    {
     "cell_type": "code",
     "collapsed": false,
     "input": [
      "100*1.5"
     ],
     "language": "python",
     "metadata": {
      "slideshow": {
       "slide_type": "fragment"
      }
     },
     "outputs": [
      {
       "metadata": {},
       "output_type": "pyout",
       "prompt_number": 1,
       "text": [
        "150.0"
       ]
      }
     ],
     "prompt_number": 1
    },
    {
     "cell_type": "code",
     "collapsed": false,
     "input": [
      "150*0.5"
     ],
     "language": "python",
     "metadata": {
      "slideshow": {
       "slide_type": "fragment"
      }
     },
     "outputs": [
      {
       "metadata": {},
       "output_type": "pyout",
       "prompt_number": 2,
       "text": [
        "75.0"
       ]
      }
     ],
     "prompt_number": 2
    },
    {
     "cell_type": "markdown",
     "metadata": {
      "slideshow": {
       "slide_type": "fragment"
      }
     },
     "source": [
      "# \u570b\u4e2d\u6642\u6211\u5011\u90fd\u5b78\u904e\uff1a $$ (1-x)(1+x) = 1 - x^2 < 1 $$"
     ]
    },
    {
     "cell_type": "markdown",
     "metadata": {
      "slideshow": {
       "slide_type": "fragment"
      }
     },
     "source": [
      "# \u56de\u4e0d\u53bb\u60f9 ...... \u600e\u9ebc\u8fa6\uff1f ......"
     ]
    },
    {
     "cell_type": "markdown",
     "metadata": {
      "slideshow": {
       "slide_type": "fragment"
      }
     },
     "source": [
      "# ( ... \u6709\u8208\u8da3\u7684\u53ef\u4ee5\u81ea\u5df1\u7576\u7fd2\u984c ... )"
     ]
    },
    {
     "cell_type": "markdown",
     "metadata": {
      "slideshow": {
       "slide_type": "fragment"
      }
     },
     "source": [
      "## (Hint: \u6bd4\u7387\u7684\u5206\u6bcd ...)"
     ]
    },
    {
     "cell_type": "markdown",
     "metadata": {
      "slideshow": {
       "slide_type": "slide"
      }
     },
     "source": [
      "# \u63a5\u4e0b\u4f86 ... \u6211\u5011\u4f86\u804a\u804a\u6578\u5b78\u4e2d\u53e6\u4e00\u7a2e\u91cd\u8981\u904b\u7b97\u7684\u76f4\u89ba ... "
     ]
    },
    {
     "cell_type": "markdown",
     "metadata": {
      "slideshow": {
       "slide_type": "subslide"
      }
     },
     "source": [
      "# \u300c\u9664\u6cd5\u300d\u7684\u300c\u76f4\u89ba\u300d ... "
     ]
    },
    {
     "cell_type": "markdown",
     "metadata": {
      "slideshow": {
       "slide_type": "subslide"
      }
     },
     "source": [
      "# \u5148\u5f9e\u4e00\u500b\u6bd4\u8f03\u300c\u6578\u5b78\u9762\u300d\u7684\u4f8b\u5b50\u4f86\u770b ... "
     ]
    },
    {
     "cell_type": "markdown",
     "metadata": {
      "slideshow": {
       "slide_type": "fragment"
      }
     },
     "source": [
      "# \u5927\u5bb6\u7df4\u7fd2\u4e00\u4e0b\u9019\u984c ... \u6c92\u734e\u589e\u7b54 ... XD"
     ]
    },
    {
     "cell_type": "markdown",
     "metadata": {
      "slideshow": {
       "slide_type": "fragment"
      }
     },
     "source": [
      "## O-O-O-O \u56db\u9846\u7403 ... \u7d66\u4f60\u56db\u7a2e\u984f\u8272 blue, red ,yellow, white \u8457\u8272\n",
      "## \u56db\u7a2e\u984f\u8272\u7684\u7403\u6578\u90fd\u8d85\u904e\u56db\u9846\n",
      "## \u4e5f\u5c31\u662f\u4f60\u53ef\u4ee5\u586b bbbb \u6216 wwww\n",
      "## \u65cb\u8f49\u5f8c\u4e00\u6a23 ... \u8996\u70ba\u540c\u4e00\u7a2e\u8457\u8272\n",
      "## e.g  bwbw = wbwb"
     ]
    },
    {
     "cell_type": "markdown",
     "metadata": {
      "slideshow": {
       "slide_type": "subslide"
      }
     },
     "source": [
      "# \u300c\u5f88\u591a\u4eba\u300d\u770b\u5230\u9019\u984c ... \u62ab\u982d\u5c31\u6703\u8aaa ... \u9019\u5f88\u7c21\u55ae\u311a ..."
     ]
    },
    {
     "cell_type": "markdown",
     "metadata": {
      "slideshow": {
       "slide_type": "fragment"
      }
     },
     "source": [
      "# $$ \\frac{4^4}{2} $$"
     ]
    },
    {
     "cell_type": "markdown",
     "metadata": {
      "slideshow": {
       "slide_type": "subslide"
      }
     },
     "source": [
      "# \u63a5\u8457\uff0c\u6211\u5c31\u6703\u554f\u4ed6\u5011\u8aaa ... \u90a3\u5982\u679c\u4e09\u7a2e\u984f\u8272\u5462 ... "
     ]
    },
    {
     "cell_type": "markdown",
     "metadata": {
      "slideshow": {
       "slide_type": "fragment"
      }
     },
     "source": [
      "# $$ \\frac{3^4}{2} ? $$"
     ]
    },
    {
     "cell_type": "markdown",
     "metadata": {
      "slideshow": {
       "slide_type": "fragment"
      }
     },
     "source": [
      "# \u80fd\u6574\u9664\u55ce\uff1f ... \u56e7 ..."
     ]
    },
    {
     "cell_type": "markdown",
     "metadata": {
      "slideshow": {
       "slide_type": "subslide"
      }
     },
     "source": [
      "# \u7528\u4ee3\u6578\u7684\u8a9e\u8a00\u8aaa ... \u9019\u662f\u4e00\u500b $\\mathbb{Z}_2$ - action ... \u6bcf\u500b orbit \u4e0d\u4e00\u6a23\u5927 ... "
     ]
    },
    {
     "cell_type": "markdown",
     "metadata": {
      "slideshow": {
       "slide_type": "fragment"
      }
     },
     "source": [
      "# \u6bd4\u65b9\u8aaa ... $O_{bwbw} = \\{bwbw, wbwb\\}$"
     ]
    },
    {
     "cell_type": "markdown",
     "metadata": {
      "slideshow": {
       "slide_type": "fragment"
      }
     },
     "source": [
      "# \u4f46\u662f ... $O_{bwwb} = \\{bwwb\\}$"
     ]
    },
    {
     "cell_type": "markdown",
     "metadata": {
      "slideshow": {
       "slide_type": "fragment"
      }
     },
     "source": [
      "# \u6240\u4ee5 ... \u4e0d\u80fd\u96a8\u4fbf\u300c\u9664\u4ee5\u4e8c\u300d\u5537 ... "
     ]
    },
    {
     "cell_type": "markdown",
     "metadata": {
      "slideshow": {
       "slide_type": "slide"
      }
     },
     "source": [
      "# \u6240\u4ee5\uff0c\u6211\u5011\u6703\u767c\u73fe\uff0c\u300c\u9664\u6cd5\u7684\u76f4\u89ba\u300d\u5c31\u662f\u300c\u5206\u985e\u300d ... "
     ]
    },
    {
     "cell_type": "markdown",
     "metadata": {
      "slideshow": {
       "slide_type": "fragment"
      }
     },
     "source": [
      "# \u53ea\u6709\u5728\u300c\u6bcf\u4e00\u985e\u90fd\u4e00\u6a23\u5927\u300d\u6642\uff0c\u624d\u53ef\u4ee5\u76f4\u63a5\u8f49\u63db\u6210\u6574\u6578\u9664\u6cd5\u7684\u554f\u984c ... "
     ]
    },
    {
     "cell_type": "markdown",
     "metadata": {
      "slideshow": {
       "slide_type": "subslide"
      }
     },
     "source": [
      "# \u9019\u4e5f\u662f\u70ba\u4ec0\u9ebc\uff0c\u6578\u5b78\u5bb6\u5e38\u5e38\u6703\u5beb\uff1a"
     ]
    },
    {
     "cell_type": "markdown",
     "metadata": {
      "slideshow": {
       "slide_type": "fragment"
      }
     },
     "source": [
      "\n",
      "# S / ~"
     ]
    },
    {
     "cell_type": "markdown",
     "metadata": {
      "slideshow": {
       "slide_type": "fragment"
      }
     },
     "source": [
      "# \u6216\u662f S / G  (G act on S)"
     ]
    },
    {
     "cell_type": "markdown",
     "metadata": {
      "slideshow": {
       "slide_type": "fragment"
      }
     },
     "source": [
      "# \u5176\u5be6\u90fd\u662f\u5728\u5206\u985e ... "
     ]
    },
    {
     "cell_type": "markdown",
     "metadata": {
      "slideshow": {
       "slide_type": "fragment"
      }
     },
     "source": [
      "## ( \u5c0f\u5c0f\u8072\u8aaa ... \u5982\u679c\u5927\u5bb6\u60f3\u5b78\u66f4\u591a\u7d44\u5408\u6578\u5b78 ... \u53ef\u4ee5\u6d3d\u7cfb\u4e0a\u7c98\u8001\u5e2b ... )"
     ]
    },
    {
     "cell_type": "markdown",
     "metadata": {
      "slideshow": {
       "slide_type": "subslide"
      }
     },
     "source": [
      "# \u5176\u5be6\u7fa4\u8ad6\u5728\u61c9\u7528\u6578\u5b78\u4e2d\uff0c\u6709\u8457\u975e\u5e38\u591a\u7684\u61c9\u7528 ... "
     ]
    },
    {
     "cell_type": "markdown",
     "metadata": {
      "slideshow": {
       "slide_type": "fragment"
      }
     },
     "source": [
      "# \u6bd4\u65b9\u8aaa ... \u4e0d\u6703\u7d71\u8a08\u7684\u7269\u7406\u5b78\u5bb6\uff0c\u5982\u4f55\u731c\u51fa Re Number ... "
     ]
    },
    {
     "cell_type": "markdown",
     "metadata": {
      "slideshow": {
       "slide_type": "fragment"
      }
     },
     "source": [
      "# Dimensional Analysis ... "
     ]
    },
    {
     "cell_type": "markdown",
     "metadata": {
      "slideshow": {
       "slide_type": "slide"
      }
     },
     "source": [
      "# \u63a5\u4e0b\u4f86\u6211\u60f3\u8ddf\u5927\u5bb6\u804a\u804a\uff0c\u6211\u4e3b\u8981\u4f5c\u7684\u61c9\u7528\u9818\u57df ... "
     ]
    },
    {
     "cell_type": "markdown",
     "metadata": {
      "slideshow": {
       "slide_type": "fragment"
      }
     },
     "source": [
      "# \u8cc7\u6599\u79d1\u5b78 (Data Science) \u7684\u300c\u76f4\u89ba\u300d ... "
     ]
    },
    {
     "cell_type": "markdown",
     "metadata": {
      "slideshow": {
       "slide_type": "subslide"
      }
     },
     "source": [
      "# \u5728\u9019\u500b\u9818\u57df\uff0c\u53ef\u4ee5\u8b1b\u7684\u8b1b\u984c\u8d85\u591a ... "
     ]
    },
    {
     "cell_type": "markdown",
     "metadata": {
      "slideshow": {
       "slide_type": "fragment"
      }
     },
     "source": [
      "# \u6211\u4eca\u5929\u5927\u81f4\u4e0a\u61c9\u8a72\u6703\u7a0d\u5fae\u8b1b\u4e00\u4e0b ... "
     ]
    },
    {
     "cell_type": "markdown",
     "metadata": {
      "slideshow": {
       "slide_type": "fragment"
      }
     },
     "source": [
      "# (1) Introduction to Data Science"
     ]
    },
    {
     "cell_type": "markdown",
     "metadata": {
      "slideshow": {
       "slide_type": "fragment"
      }
     },
     "source": [
      "# (2) Hacking Models ... (Mathematical Modeling)"
     ]
    },
    {
     "cell_type": "markdown",
     "metadata": {
      "slideshow": {
       "slide_type": "fragment"
      }
     },
     "source": [
      "# (3) Text Mining"
     ]
    },
    {
     "cell_type": "markdown",
     "metadata": {
      "slideshow": {
       "slide_type": "fragment"
      }
     },
     "source": [
      "# (4) a little Computer Vision "
     ]
    },
    {
     "cell_type": "markdown",
     "metadata": {
      "slideshow": {
       "slide_type": "fragment"
      }
     },
     "source": [
      "## ( ... \u5982\u679c\u5927\u5bb6\u60f3\u5b78 level-set \u4f5c segmentation ... \u8acb\u6d3d\u8607\u8001\u5e2b ... \u6301\u7e8c\u6316\u5751\u4e2d ... )"
     ]
    },
    {
     "cell_type": "markdown",
     "metadata": {
      "slideshow": {
       "slide_type": "subslide"
      }
     },
     "source": [
      "# \u7531\u65bc\u6c92\u6709\u6642\u9593\u5f59\u6574\u904e\u53bb\u7684 Slides ... "
     ]
    },
    {
     "cell_type": "markdown",
     "metadata": {
      "slideshow": {
       "slide_type": "fragment"
      }
     },
     "source": [
      "# \u6240\u4ee5 ... \u53ea\u597d\u8acb\u5927\u5bb6\u5fcd\u8010\u4e00\u4e0b ... "
     ]
    },
    {
     "cell_type": "markdown",
     "metadata": {
      "slideshow": {
       "slide_type": "fragment"
      }
     },
     "source": [
      "# \u9019\u90e8\u4efd\u7684\u6bcf\u500b\u8b1b\u984c\uff0c\u6211\u90fd\u6703\u958b\u555f\u904e\u53bb\u7684 Slides \u4f86\u5207\u63db\u8457\u8b1b ... "
     ]
    },
    {
     "cell_type": "markdown",
     "metadata": {
      "slideshow": {
       "slide_type": "subslide"
      }
     },
     "source": [
      "# \u90a3\u6211\u5011\u958b\u59cb\u56c9 ... "
     ]
    },
    {
     "cell_type": "markdown",
     "metadata": {
      "slideshow": {
       "slide_type": "fragment"
      }
     },
     "source": [
      "# (1) Introduction to Data Science"
     ]
    },
    {
     "cell_type": "markdown",
     "metadata": {},
     "source": [
      "# (2) Hacking Models ... (Mathematical Modeling)"
     ]
    },
    {
     "cell_type": "markdown",
     "metadata": {},
     "source": [
      "# (3) Text Mining"
     ]
    },
    {
     "cell_type": "markdown",
     "metadata": {},
     "source": [
      "# (4) a little Computer Vision "
     ]
    },
    {
     "cell_type": "markdown",
     "metadata": {
      "slideshow": {
       "slide_type": "subslide"
      }
     },
     "source": [
      "# \u5982\u679c\u60f3\u5b78\u66f4\u591a\uff0c\u8acb\u6d3d MLDM Monday \u805a\u6703\u8207 TW.R \u793e\u7fa4 ... \n",
      "\n",
      "- ## http://www.meetup.com/Taiwan-R/\n",
      "- ## https://www.youtube.com/user/TWuseRGroup\n",
      "- ## https://www.facebook.com/Tw.R.User"
     ]
    },
    {
     "cell_type": "markdown",
     "metadata": {
      "slideshow": {
       "slide_type": "fragment"
      }
     },
     "source": [
      "## (\u9019\u500b\u793e\u7fa4\u7684\u6210\u54e1\u5927\u591a\u662f\u6578\u5b78\u7cfb\u7562\u696d\u7684 ... \u5305\u62ec\u5169\u4f4d\u5275\u8fa6\u4eba ... )"
     ]
    },
    {
     "cell_type": "markdown",
     "metadata": {
      "slideshow": {
       "slide_type": "slide"
      }
     },
     "source": [
      "# \u7c21\u77ed\u7d50\u8a9e ... "
     ]
    },
    {
     "cell_type": "markdown",
     "metadata": {
      "slideshow": {
       "slide_type": "slide"
      }
     },
     "source": [
      "# \u4ee5\u524d\u570b\u4e2d\u6642\uff0c\u5c31\u975e\u5e38\u71b1\u611b\u6578\u5b78\uff0c\u7acb\u5fd7\u4ee5\u5f8c\u8981\u5538\u6578\u5b78\u7cfb ... "
     ]
    },
    {
     "cell_type": "markdown",
     "metadata": {
      "slideshow": {
       "slide_type": "subslide"
      }
     },
     "source": [
      "# \u8a18\u5f97\uff0c\u5abd\u5abd\u7576\u6642\u6709\u8a31\u591a\u670b\u53cb\u807d\u4e86 ... \u7e3d\u6703\u554f\u5979\u8aaa ..."
     ]
    },
    {
     "cell_type": "markdown",
     "metadata": {
      "slideshow": {
       "slide_type": "subslide"
      }
     },
     "source": [
      "#\u300c ... \u5538\u6578\u5b78\u7cfb\u4ee5\u5f8c\u80fd\u4f5c\u4ec0\u9ebc\u5462\uff1f\u300d"
     ]
    },
    {
     "cell_type": "markdown",
     "metadata": {
      "slideshow": {
       "slide_type": "subslide"
      }
     },
     "source": [
      "#\u300c ... \u7576\u8001\u5e2b\u55ce\uff1f\u300d"
     ]
    },
    {
     "cell_type": "markdown",
     "metadata": {
      "slideshow": {
       "slide_type": "subslide"
      }
     },
     "source": [
      "#\u300c ... \u9084\u662f\u7576\u7acb\u6cd5\u9662\u9577\uff1f ... XD \u300d"
     ]
    },
    {
     "cell_type": "markdown",
     "metadata": {
      "slideshow": {
       "slide_type": "subslide"
      }
     },
     "source": [
      "# \u70ba\u6b64\uff0c\u5abd\u5abd\u7e3d\u611b\u8490\u96c6\u50cf\u9019\u6a23\u7684\u526a\u5831 ... "
     ]
    },
    {
     "cell_type": "markdown",
     "metadata": {
      "slideshow": {
       "slide_type": "fragment"
      }
     },
     "source": [
      "![](top_ten_jobs.png)"
     ]
    },
    {
     "cell_type": "markdown",
     "metadata": {
      "slideshow": {
       "slide_type": "subslide"
      }
     },
     "source": [
      "# \u770b\u8457\u526a\u5831\uff0c\u6211\u7684\u5fc3\u60c5\u662f ...... "
     ]
    },
    {
     "cell_type": "markdown",
     "metadata": {
      "slideshow": {
       "slide_type": "fragment"
      }
     },
     "source": [
      "# \u300c\u9019\u7a2e\u6771\u897f\u61c9\u8a72\u5b58\u5728\u65bc\u706b\u661f\u5427 ... \u8ab0\u76f8\u4fe1\u9019\u7a2e\u6771\u897f\u5b58\u5728\u65bc\u73fe\u5728\u7684\u53f0\u7063(\u9b3c\u5cf6? \u9ed1\u5cf6?) ... XD\u300d\n"
     ]
    },
    {
     "cell_type": "markdown",
     "metadata": {
      "slideshow": {
       "slide_type": "subslide"
      }
     },
     "source": [
      "# \u5728\u90a3\u500b\u5e74\u4ee3\uff0c\u6211\u7684\u5fc3\u7406\u7e3d\u662f\u60f3\u8457 ... "
     ]
    },
    {
     "cell_type": "markdown",
     "metadata": {
      "slideshow": {
       "slide_type": "fragment"
      }
     },
     "source": [
      "# \u300c\u7ba1\u4ed6\u5538\u6578\u5b78\u4ee5\u5f8c\u80fd\u4f5c\u4ec0\u9ebc ... \u53cd\u6b63\u6211\u5c31\u662f\u559c\u6b61\u63a2\u7d22\u300e\u76f4\u89ba\u300f\uff0c\u63a2\u7d22\u6578\u5b57\u548c\u5404\u7a2e pattern \u80cc\u5f8c\u6df1\u523b\u7684\u610f\u7fa9 ... \u300d"
     ]
    },
    {
     "cell_type": "markdown",
     "metadata": {
      "slideshow": {
       "slide_type": "fragment"
      }
     },
     "source": [
      "# \u76f4\u5230\u73fe\u4eca ... \u9019\u6a23\u7684\u521d\u8877\u4f9d\u820a\u6c92\u8b8a ... "
     ]
    },
    {
     "cell_type": "markdown",
     "metadata": {
      "slideshow": {
       "slide_type": "subslide"
      }
     },
     "source": [
      "# \u4f46\u96a8\u8457\u5e74\u9f61\u7684\u589e\u9577 ..."
     ]
    },
    {
     "cell_type": "markdown",
     "metadata": {
      "slideshow": {
       "slide_type": "fragment"
      }
     },
     "source": [
      "# \u6216\u8a31\u61c9\u8a72\u8aaa ... \u96a8\u8457\u5fc3\u667a\u7684\u6f38\u6f38\u6210\u719f ... "
     ]
    },
    {
     "cell_type": "markdown",
     "metadata": {
      "slideshow": {
       "slide_type": "fragment"
      }
     },
     "source": [
      "# \u5c0d\u65bc\u300c\u80fd\u4f5c\u4ec0\u9ebc\u300d\u9019\u6a23\u7684\u554f\u984c\uff0c\u4e5f\u6f38\u6f38\u6709\u4e86\u4e0d\u540c\u7684\u9ad4\u8aa4 ... "
     ]
    },
    {
     "cell_type": "markdown",
     "metadata": {
      "slideshow": {
       "slide_type": "subslide"
      }
     },
     "source": [
      "# \u4ee5\u524d\u6211\u525b\u9032\u5165\u6210\u5927\u6642\uff0c\u7e3d\u6703\u8a8d\u8b58\u5f88\u591a\u53f0\u6587\u7cfb\u6216\u653f\u6cbb\u7cfb\u7684\u670b\u53cb ... "
     ]
    },
    {
     "cell_type": "markdown",
     "metadata": {
      "slideshow": {
       "slide_type": "fragment"
      }
     },
     "source": [
      "# \u770b\u8457\u4ed6\u5011\u6bcf\u5929\u8fa6\u6d3b\u52d5\uff0c\u800c\u6211\u6bcf\u5929\u90fd\u53bb\u5716\u66f8\u9928 ... \u6211\u5fc3\u4e2d\u4e5f\u5e38\u5e38\u60f3\u8457 ... "
     ]
    },
    {
     "cell_type": "markdown",
     "metadata": {
      "slideshow": {
       "slide_type": "fragment"
      }
     },
     "source": [
      "# \u300c\u5538\u6210\u5927\u653f\u6cbb\uff0c\u4ee5\u5f8c\u53ef\u4ee5\u4f5c\u4ec0\u9ebc\u5462\uff1f\u300d"
     ]
    },
    {
     "cell_type": "markdown",
     "metadata": {
      "slideshow": {
       "slide_type": "subslide"
      }
     },
     "source": [
      "# \u4e00\u76f4\u5230\u5f88\u591a\u5e74\u5f8c\u7684\u4eca\u5929 ... \u6211\u624d\u767c\u73fe ... "
     ]
    },
    {
     "cell_type": "markdown",
     "metadata": {
      "slideshow": {
       "slide_type": "subslide"
      }
     },
     "source": [
      "# \u539f\u4f86 ... "
     ]
    },
    {
     "cell_type": "markdown",
     "metadata": {
      "slideshow": {
       "slide_type": "fragment"
      }
     },
     "source": [
      "# \u300c\u5538\u6210\u5927\u653f\u6cbb\uff0c\u53ef\u4ee5\u653b\u4f54\u7acb\u6cd5\u9662 ... \u300d"
     ]
    },
    {
     "cell_type": "markdown",
     "metadata": {
      "slideshow": {
       "slide_type": "fragment"
      }
     },
     "source": [
      "# \u300c\u53ef\u4ee5\u9ede\u4eae\u5168\u6c11\u7684\u8996\u91ce ... \u300d"
     ]
    },
    {
     "cell_type": "markdown",
     "metadata": {
      "slideshow": {
       "slide_type": "fragment"
      }
     },
     "source": [
      "# \u300c\u53ef\u4ee5\u8b93\u5cf6\u5dbc\u5929\u5149 ... \u300d"
     ]
    },
    {
     "cell_type": "markdown",
     "metadata": {
      "slideshow": {
       "slide_type": "subslide"
      }
     },
     "source": [
      "# \u624d\u6df1\u6df1\u7684\u53cd\u7701\uff0c\u7576\u5e74\u81ea\u5df1\u5fc3\u4e2d\u7684\u554f\u984c\uff0c\u662f\u591a\u9ebc\u7684\u7121\u77e5\u8207\u5e7c\u7a1a ... "
     ]
    },
    {
     "cell_type": "markdown",
     "metadata": {
      "slideshow": {
       "slide_type": "subslide"
      }
     },
     "source": [
      "# \u5176\u5be6\uff0c\u771f\u6b63\u5f71\u97ff\u6211\u5011\u80fd\u4f5c\u4ec0\u9ebc\u7684 ..."
     ]
    },
    {
     "cell_type": "markdown",
     "metadata": {
      "slideshow": {
       "slide_type": "fragment"
      }
     },
     "source": [
      "# \u4e26\u4e0d\u662f\u6211\u5011\u8b80\u4e86\u600e\u6a23\u7684\u79d1\u7cfb\uff1f\u600e\u6a23\u7684\u5b78\u6821\uff1f"
     ]
    },
    {
     "cell_type": "markdown",
     "metadata": {
      "slideshow": {
       "slide_type": "fragment"
      }
     },
     "source": [
      "# \u800c\u662f\u6211\u5011\u6709\u600e\u6a23\u7684\u300c\u5fc3\u5ff5\u300d\u8207\u300c\u4fe1\u5ff5\u300d\uff1f"
     ]
    },
    {
     "cell_type": "markdown",
     "metadata": {
      "slideshow": {
       "slide_type": "subslide"
      }
     },
     "source": [
      "# \u300c\u6211\u5011\u76f8\u4fe1\u4ec0\u9ebc\uff1f\u300d"
     ]
    },
    {
     "cell_type": "markdown",
     "metadata": {
      "slideshow": {
       "slide_type": "fragment"
      }
     },
     "source": [
      "# \u6211\u5011\u5c31\u6703\u5728\u5fc3\u4e2d\u5316\u4e00\u5e45\u600e\u6a23\u7684\u5716\u756b ......"
     ]
    },
    {
     "cell_type": "markdown",
     "metadata": {
      "slideshow": {
       "slide_type": "subslide"
      }
     },
     "source": [
      "# \u6c38\u9060\u8a18\u5f97 ... \n",
      "![](COSCUP_R_Pic8.jpg)"
     ]
    },
    {
     "cell_type": "markdown",
     "metadata": {
      "slideshow": {
       "slide_type": "fragment"
      }
     },
     "source": [
      "# \u4e26\u8a18\u5f97\u4fdd\u6709\u71b1\u60c5\uff0c\u958b\u5fc3\u7684\u756b\u4e0b\u53bb ... "
     ]
    },
    {
     "cell_type": "markdown",
     "metadata": {
      "slideshow": {
       "slide_type": "slide"
      }
     },
     "source": [
      "# \u611f\u8b1d\u5927\u5bb6 !!!"
     ]
    },
    {
     "cell_type": "markdown",
     "metadata": {
      "slideshow": {
       "slide_type": "slide"
      }
     },
     "source": [
      "# \u5176\u4ed6\u60f3\u804a\uff0c\u4f46\u4f86\u4e0d\u53ca\u4f5c slides \u7684\u4e3b\u984c ... "
     ]
    },
    {
     "cell_type": "markdown",
     "metadata": {
      "slideshow": {
       "slide_type": "subslide"
      }
     },
     "source": [
      "# \u5f9e\u300c\u731c\u7b54\u6848\u300d\u7684\u85dd\u8853 ... \u804a\u6578\u5b78 ... "
     ]
    },
    {
     "cell_type": "markdown",
     "metadata": {
      "slideshow": {
       "slide_type": "subslide"
      }
     },
     "source": [
      "# \u5982\u4f55\u731c\u51fa\u5fae\u5206\u65b9\u7a0b\u7684\u89e3\uff1f\u4ee5\u53ca\u6240\u4f7f\u7528\u7684\u7a4d\u5206\u56e0\u5b50\uff1f"
     ]
    },
    {
     "cell_type": "markdown",
     "metadata": {
      "slideshow": {
       "slide_type": "subslide"
      }
     },
     "source": [
      "# \u4e0d\u61c2\u7d71\u8a08\uff1f...\u6216\u66f4\u61c2\u7d71\u8a08\uff1f\u7684\u5be6\u9a57\u7269\u7406\u5b78\u5bb6\uff1f"
     ]
    },
    {
     "cell_type": "markdown",
     "metadata": {
      "slideshow": {
       "slide_type": "fragment"
      }
     },
     "source": [
      "# \u662f\u5982\u4f55\u7cbe\u6e96\u731c\u51fa\u91cd\u8981\u7684\u7269\u7406\u91cf\uff1f"
     ]
    },
    {
     "cell_type": "markdown",
     "metadata": {
      "slideshow": {
       "slide_type": "fragment"
      }
     },
     "source": [
      "# ... \u6dfa\u8ac7 Dimensional Analysis \uff1f"
     ]
    },
    {
     "cell_type": "markdown",
     "metadata": {
      "slideshow": {
       "slide_type": "fragment"
      }
     },
     "source": [
      "## ( ...\u6709\u5728\u505a\u8001\u5e2b\u9858\u610f\u8df3\u5751\u55ce\uff1f ... XD )"
     ]
    },
    {
     "cell_type": "markdown",
     "metadata": {
      "slideshow": {
       "slide_type": "slide"
      }
     },
     "source": [
      "# \u5927\u5b78\u6578\u5b78 Q&A "
     ]
    },
    {
     "cell_type": "markdown",
     "metadata": {
      "slideshow": {
       "slide_type": "subslide"
      }
     },
     "source": [
      "# \u9ad8\u5fae\u5b78\u904e\uff0c\u4efb\u4f55\u4e00\u500b\u5be6\u6578\u90fd\u53ef\u4ee5\u7528\u6709\u7406\u6578\u7121\u7aae\u903c\u8fd1 ... "
     ]
    },
    {
     "cell_type": "markdown",
     "metadata": {
      "slideshow": {
       "slide_type": "fragment"
      }
     },
     "source": [
      "# \u5982\u679c\u4eca\u5929\u8981\u4f60\u903c\u8fd1 $\\sqrt{2}$ \u4f60\u6703\u600e\u9ebc\u4f5c\u5462\uff1f"
     ]
    },
    {
     "cell_type": "markdown",
     "metadata": {
      "slideshow": {
       "slide_type": "fragment"
      }
     },
     "source": [
      "# \u5982\u4f55 trade-off \u6536\u6582\u901f\u5ea6\u8207\u8a08\u7b97\u901f\u5ea6\uff1f"
     ]
    },
    {
     "cell_type": "markdown",
     "metadata": {
      "slideshow": {
       "slide_type": "subslide"
      }
     },
     "source": [
      "# Galois \u8aaa\uff1a\u5982\u679c\u7fa4 Solvable \u5247\u65b9\u7a0b\u5f0f Solvable ... "
     ]
    },
    {
     "cell_type": "markdown",
     "metadata": {
      "slideshow": {
       "slide_type": "fragment"
      }
     },
     "source": [
      "# \u8acb\u554f\u5927\u5bb6\uff0c\u771f\u7684\u53ef\u4ee5\u5f9e\u7fa4\u7684\u62c6\u89e3\u904e\u7a0b\u4e2d\uff0c\u770b\u5230\u65b9\u7a0b\u5f0f\u5982\u4f55\u56e0\u5f0f\u5206\u89e3\u55ce\uff1f"
     ]
    },
    {
     "cell_type": "markdown",
     "metadata": {
      "slideshow": {
       "slide_type": "fragment"
      }
     },
     "source": [
      "# \u5982\u4f55\u770b\uff1f"
     ]
    },
    {
     "cell_type": "markdown",
     "metadata": {
      "slideshow": {
       "slide_type": "subslide"
      }
     },
     "source": [
      "# \u540c\u6a23\u7684\u554f\u984c\uff0c\u5176\u5be6\u4e5f\u51fa\u73fe\u5728\u5fae\u5206\u65b9\u7a0b ... "
     ]
    },
    {
     "cell_type": "markdown",
     "metadata": {
      "slideshow": {
       "slide_type": "fragment"
      }
     },
     "source": [
      "# \u8acb\u554f\u5728\u505a\u6709\u4eba\u5b78\u904e Differentail Galois \u55ce\uff1f"
     ]
    }
   ],
   "metadata": {}
  }
 ]
}